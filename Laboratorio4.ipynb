{
  "nbformat": 4,
  "nbformat_minor": 0,
  "metadata": {
    "kernelspec": {
      "name": "python3",
      "display_name": "Python 3.9.6 64-bit ('base': conda)"
    },
    "language_info": {
      "codemirror_mode": {
        "name": "ipython",
        "version": 3
      },
      "file_extension": ".py",
      "mimetype": "text/x-python",
      "name": "python",
      "nbconvert_exporter": "python",
      "pygments_lexer": "ipython3",
      "version": "3.9.6"
    },
    "toc": {
      "base_numbering": 1,
      "nav_menu": {},
      "number_sections": true,
      "sideBar": true,
      "skip_h1_title": true,
      "title_cell": "Tabla de Contenidos",
      "title_sidebar": "Contenidos",
      "toc_cell": false,
      "toc_position": {
        "height": "calc(100% - 180px)",
        "left": "10px",
        "top": "150px",
        "width": "241.867px"
      },
      "toc_section_display": true,
      "toc_window_display": true
    },
    "varInspector": {
      "cols": {
        "lenName": 16,
        "lenType": 16,
        "lenVar": 40
      },
      "kernels_config": {
        "python": {
          "delete_cmd_postfix": "",
          "delete_cmd_prefix": "del ",
          "library": "var_list.py",
          "varRefreshCmd": "print(var_dic_list())"
        },
        "r": {
          "delete_cmd_postfix": ") ",
          "delete_cmd_prefix": "rm(",
          "library": "var_list.r",
          "varRefreshCmd": "cat(var_dic_list()) "
        }
      },
      "types_to_exclude": [
        "module",
        "function",
        "builtin_function_or_method",
        "instance",
        "_Feature"
      ],
      "window_display": false
    },
    "colab": {
      "name": "Laboratorio4.ipynb",
      "provenance": [],
      "collapsed_sections": [],
      "include_colab_link": true
    },
    "interpreter": {
      "hash": "09cf3d5909f3828bf53c46564821f879a9c8405e40e27fb09b54d745264e4a6d"
    }
  },
  "cells": [
    {
      "cell_type": "markdown",
      "metadata": {
        "id": "view-in-github",
        "colab_type": "text"
      },
      "source": [
        "<a href=\"https://colab.research.google.com/github/Patortiz26/Laboratorio-de-Programaci-n/blob/main/Laboratorio4.ipynb\" target=\"_parent\"><img src=\"https://colab.research.google.com/assets/colab-badge.svg\" alt=\"Open In Colab\"/></a>"
      ]
    },
    {
      "cell_type": "markdown",
      "metadata": {
        "id": "XUZ1dFPHzAHl"
      },
      "source": [
        "<h1><center>Laboratorio 4: El Pandas no muerde (act. II) 🐼</center></h1>\n",
        "\n",
        "<center><strong>MDS7202: Laboratorio de Programación Científica para Ciencia de Datos</strong></center>"
      ]
    },
    {
      "cell_type": "markdown",
      "metadata": {
        "id": "UD8X1uhGzAHq"
      },
      "source": [
        "### Cuerpo Docente:\n",
        "\n",
        "- Profesor: Pablo Badilla\n",
        "- Auxiliar: Ignacio Meza D.\n",
        "- Ayudante: Constanza Peña"
      ]
    },
    {
      "cell_type": "markdown",
      "metadata": {
        "id": "tXflExjqzAHr"
      },
      "source": [
        "### Equipo: \n",
        "\n",
        "- Nombre de alumno 1: Patricio Ortiz"
      ]
    },
    {
      "cell_type": "markdown",
      "metadata": {
        "id": "AD-V0bbZzAHr"
      },
      "source": [
        "### **Link de repositorio de GitHub:** `http://....`"
      ]
    },
    {
      "cell_type": "markdown",
      "metadata": {
        "id": "6uBLPj1PzAHs"
      },
      "source": [
        "# Temas a tratar\n",
        "\n",
        "- Manejo de datos tabulares usando `pandas`. En esta segunda parte se incluye adicionalmente agregaciones, concatenaciones, merge y trabajo con strings.\n",
        "- Visualizaciones interactivas de los datos con `plotly`.\n",
        "\n",
        "### Reglas:\n",
        "\n",
        "- Fecha de entrega: 8 de octubre (atrasos hasta el 11 de octubre, 1 punto de descuento por día)\n",
        "- **Grupos de máximo 2 personas**\n",
        "- **Ausentes** deberán realizar la actividad solos. \n",
        "- Cualquier duda fuera del horario de clases al foro. Mensajes al equipo docente serán respondidos por este medio.\n",
        "- Prohibidas las copias. \n",
        "- Pueden usar cualquer matrial del curso que estimen conveniente.\n",
        "\n",
        "\n",
        "### Objetivos principales del laboratorio\n",
        "\n",
        "- Aplicar y aprovechar las ventajas que nos ofrece la libreria `pandas`.\n",
        "- Utilizar `plotly` para obtener información gráfica del dataset.\n",
        "- Aplicar el **Análisis Exploratorio de Datos** a un caso en particular.\n",
        "\n",
        "\n",
        "> **Nota**: El laboratorio deberá ser desarrollado sin el uso indiscriminado de iteradores nativos de python (aka \"for\", \"while\"). La idea es que aprendan a exprimir al máximo las funciones optimizadas que nos entrega `pandas`, las cuales vale mencionar, son bastante más eficientes que los iteradores nativos sobre DataFrames."
      ]
    },
    {
      "cell_type": "markdown",
      "metadata": {
        "id": "MhISwri4zAHy"
      },
      "source": [
        "# Importamos librerias utiles 😸"
      ]
    },
    {
      "cell_type": "code",
      "metadata": {
        "ExecuteTime": {
          "end_time": "2021-03-29T00:08:16.884674Z",
          "start_time": "2021-03-29T00:08:16.349846Z"
        },
        "id": "uyc33dKdzAHy"
      },
      "source": [
        "# Libreria Core del lab.\n",
        "import numpy as np\n",
        "import pandas as pd \n",
        "import os\n",
        "\n",
        "from IPython.display import display\n",
        "\n",
        "#Libreria para visualizar\n",
        "#!pip install --upgrade plotly\n",
        "import plotly.figure_factory as ff\n",
        "import plotly.express as px\n",
        "import plotly.graph_objects as go"
      ],
      "execution_count": 35,
      "outputs": []
    },
    {
      "cell_type": "markdown",
      "metadata": {
        "id": "xpOTbQcxbSiy"
      },
      "source": [
        "# 1. Rendimiento en Estudiantes 📚"
      ]
    },
    {
      "cell_type": "markdown",
      "metadata": {
        "id": "3Q93vbNS25bM"
      },
      "source": [
        "\n",
        "<p align=\"center\">\n",
        "  <img src=\"https://drive.google.com/uc?export=view&id=1hZZaPQlZe4VupFOXt76_wjuUA5NpUhrw\" width=\"300\" height=\"300\">\n",
        "</p>"
      ]
    },
    {
      "cell_type": "markdown",
      "metadata": {
        "id": "jnmZfFpxTTYX"
      },
      "source": [
        "Para este laboratorio deberán continuar el Análisis Exploratorio de datos sobre el conjunto ```students_grades.csv```, el cual contiene una caracterización sobre el rendimiento y otros atributos de cada alumno de la *Universidad de la Cachaña* ."
      ]
    },
    {
      "cell_type": "code",
      "metadata": {
        "colab": {
          "base_uri": "https://localhost:8080/"
        },
        "id": "Jqq-s010Iwl1",
        "outputId": "25c2a507-2c87-4629-e399-e9f007afd190"
      },
      "source": [
        "# Si usted está utilizando Colabolatory le puede ser útil este código para cargar los archivos.\n",
        "try:\n",
        "    from google.colab import drive\n",
        "    drive.mount(\"/content/drive\")\n",
        "    path = '/content/drive/My Drive/Colab Notebooks/MDS7202 - Laboratorio de programación/Lab 4/Datos'\n",
        "    os.chdir(path)\n",
        "except: \n",
        "    print('Ignorando conexión drive-colab')"
      ],
      "execution_count": 22,
      "outputs": [
        {
          "output_type": "stream",
          "name": "stdout",
          "text": [
            "Drive already mounted at /content/drive; to attempt to forcibly remount, call drive.mount(\"/content/drive\", force_remount=True).\n"
          ]
        }
      ]
    },
    {
      "cell_type": "markdown",
      "metadata": {
        "id": "ELrR4Lewwuqn"
      },
      "source": [
        "# 1. Carga de Datos [0.5 Puntos]\n",
        "\n",
        "Ya finalizado en análisis inicial, ud. y su equipo le entregaron a *Don Caguayo* (rector de la Universidad de la Cachaña) tanto los resultados del análisis como también la base de datos limpia y lista para ser almacenada. Dada la ingente cantidad de los datos, el equipo de TI de la universidad resolvió separar el dataset en dos bases de datos distintas (lo que según argumentan ellos, permitiría hacer agregaciones de forma más eficiente). \n",
        "\n",
        "Gracias a la excelente labor de ud. y su equipo en el análisis previo, el rector le solicita continuar el trabajo con una nueva batería de análisis. Por este motivo, la sección de TI les entrega nuevamente los datos. Sin embargo, argumentan que dada una escazes de personal, solo le entregarán *dumps* (copias) de cada base de datos y su equipo deberá unir las bases de datos. Los datos se encuentran en los siguiente archivos `.json`: ´students_grades_1.json´ y ´students_grades_2.json´. \n",
        "\n",
        "\n",
        "Por ende, ud. y su equipo deciden que la primera tarea se centrará en cargar estos datos y unirlos. No se preocupe por la limpieza ni transformar el tipo de datos de las columnas, ni tampoco transformar a notas chilenas, recuerde que anteriormente ya se encargo de este tema."
      ]
    },
    {
      "cell_type": "code",
      "metadata": {
        "id": "RnHbmGzSx0RB"
      },
      "source": [
        "df1 = pd.read_json('students_grades_1.json')\n",
        "df2 = pd.read_json('students_grades_2.json')"
      ],
      "execution_count": 26,
      "outputs": []
    },
    {
      "cell_type": "code",
      "metadata": {
        "colab": {
          "base_uri": "https://localhost:8080/",
          "height": 205
        },
        "id": "gdSaY-1Q1Y1w",
        "outputId": "77998084-0cc3-4edc-fdbf-f6a66bad4aa9"
      },
      "source": [
        "df1.head()"
      ],
      "execution_count": 27,
      "outputs": [
        {
          "output_type": "execute_result",
          "data": {
            "text/html": [
              "<div>\n",
              "<style scoped>\n",
              "    .dataframe tbody tr th:only-of-type {\n",
              "        vertical-align: middle;\n",
              "    }\n",
              "\n",
              "    .dataframe tbody tr th {\n",
              "        vertical-align: top;\n",
              "    }\n",
              "\n",
              "    .dataframe thead th {\n",
              "        text-align: right;\n",
              "    }\n",
              "</style>\n",
              "<table border=\"1\" class=\"dataframe\">\n",
              "  <thead>\n",
              "    <tr style=\"text-align: right;\">\n",
              "      <th></th>\n",
              "      <th>names</th>\n",
              "      <th>gender</th>\n",
              "      <th>race/ethnicity</th>\n",
              "      <th>parental level of education</th>\n",
              "      <th>lunch</th>\n",
              "      <th>test preparation course</th>\n",
              "      <th>math score</th>\n",
              "      <th>reading score</th>\n",
              "      <th>writing score</th>\n",
              "    </tr>\n",
              "  </thead>\n",
              "  <tbody>\n",
              "    <tr>\n",
              "      <th>0</th>\n",
              "      <td>Rita Courtney</td>\n",
              "      <td>female</td>\n",
              "      <td>group B</td>\n",
              "      <td>some high school</td>\n",
              "      <td>standard</td>\n",
              "      <td>none</td>\n",
              "      <td>3.22</td>\n",
              "      <td>3.76</td>\n",
              "      <td>3.76</td>\n",
              "    </tr>\n",
              "    <tr>\n",
              "      <th>1</th>\n",
              "      <td>Charles Linstrom</td>\n",
              "      <td>male</td>\n",
              "      <td>group A</td>\n",
              "      <td>bachelor's degree</td>\n",
              "      <td>standard</td>\n",
              "      <td>completed</td>\n",
              "      <td>5.80</td>\n",
              "      <td>5.68</td>\n",
              "      <td>5.86</td>\n",
              "    </tr>\n",
              "    <tr>\n",
              "      <th>2</th>\n",
              "      <td>Brian Young</td>\n",
              "      <td>male</td>\n",
              "      <td>group C</td>\n",
              "      <td>some high school</td>\n",
              "      <td>standard</td>\n",
              "      <td>none</td>\n",
              "      <td>5.38</td>\n",
              "      <td>4.96</td>\n",
              "      <td>4.78</td>\n",
              "    </tr>\n",
              "    <tr>\n",
              "      <th>3</th>\n",
              "      <td>Howard Jimenez</td>\n",
              "      <td>male</td>\n",
              "      <td>group E</td>\n",
              "      <td>some high school</td>\n",
              "      <td>standard</td>\n",
              "      <td>completed</td>\n",
              "      <td>5.86</td>\n",
              "      <td>5.50</td>\n",
              "      <td>5.56</td>\n",
              "    </tr>\n",
              "    <tr>\n",
              "      <th>4</th>\n",
              "      <td>Wayne Wilson</td>\n",
              "      <td>male</td>\n",
              "      <td>group B</td>\n",
              "      <td>some high school</td>\n",
              "      <td>standard</td>\n",
              "      <td>completed</td>\n",
              "      <td>6.64</td>\n",
              "      <td>6.16</td>\n",
              "      <td>6.22</td>\n",
              "    </tr>\n",
              "  </tbody>\n",
              "</table>\n",
              "</div>"
            ],
            "text/plain": [
              "              names  gender  ... reading score writing score\n",
              "0     Rita Courtney  female  ...          3.76          3.76\n",
              "1  Charles Linstrom    male  ...          5.68          5.86\n",
              "2       Brian Young    male  ...          4.96          4.78\n",
              "3    Howard Jimenez    male  ...          5.50          5.56\n",
              "4      Wayne Wilson    male  ...          6.16          6.22\n",
              "\n",
              "[5 rows x 9 columns]"
            ]
          },
          "metadata": {},
          "execution_count": 27
        }
      ]
    },
    {
      "cell_type": "code",
      "metadata": {
        "colab": {
          "base_uri": "https://localhost:8080/",
          "height": 205
        },
        "id": "cdJz5y3l1n8m",
        "outputId": "9bf90bc9-cc68-47dd-8d31-3171a905084b"
      },
      "source": [
        "df2.head()"
      ],
      "execution_count": 28,
      "outputs": [
        {
          "output_type": "execute_result",
          "data": {
            "text/html": [
              "<div>\n",
              "<style scoped>\n",
              "    .dataframe tbody tr th:only-of-type {\n",
              "        vertical-align: middle;\n",
              "    }\n",
              "\n",
              "    .dataframe tbody tr th {\n",
              "        vertical-align: top;\n",
              "    }\n",
              "\n",
              "    .dataframe thead th {\n",
              "        text-align: right;\n",
              "    }\n",
              "</style>\n",
              "<table border=\"1\" class=\"dataframe\">\n",
              "  <thead>\n",
              "    <tr style=\"text-align: right;\">\n",
              "      <th></th>\n",
              "      <th>names</th>\n",
              "      <th>gender</th>\n",
              "      <th>race/ethnicity</th>\n",
              "      <th>parental level of education</th>\n",
              "      <th>lunch</th>\n",
              "      <th>test preparation course</th>\n",
              "      <th>math score</th>\n",
              "      <th>reading score</th>\n",
              "      <th>writing score</th>\n",
              "    </tr>\n",
              "  </thead>\n",
              "  <tbody>\n",
              "    <tr>\n",
              "      <th>0</th>\n",
              "      <td>Cheryl Kraus</td>\n",
              "      <td>female</td>\n",
              "      <td>group D</td>\n",
              "      <td>some high school</td>\n",
              "      <td>standard</td>\n",
              "      <td>none</td>\n",
              "      <td>4.54</td>\n",
              "      <td>5.32</td>\n",
              "      <td>5.80</td>\n",
              "    </tr>\n",
              "    <tr>\n",
              "      <th>1</th>\n",
              "      <td>Kristy Glass</td>\n",
              "      <td>female</td>\n",
              "      <td>group D</td>\n",
              "      <td>associate's degree</td>\n",
              "      <td>standard</td>\n",
              "      <td>none</td>\n",
              "      <td>5.56</td>\n",
              "      <td>5.44</td>\n",
              "      <td>5.38</td>\n",
              "    </tr>\n",
              "    <tr>\n",
              "      <th>2</th>\n",
              "      <td>Timothy Botello</td>\n",
              "      <td>male</td>\n",
              "      <td>group D</td>\n",
              "      <td>master's degree</td>\n",
              "      <td>standard</td>\n",
              "      <td>none</td>\n",
              "      <td>6.10</td>\n",
              "      <td>6.04</td>\n",
              "      <td>6.34</td>\n",
              "    </tr>\n",
              "    <tr>\n",
              "      <th>3</th>\n",
              "      <td>Ronald Coria</td>\n",
              "      <td>male</td>\n",
              "      <td>group A</td>\n",
              "      <td>associate's degree</td>\n",
              "      <td>standard</td>\n",
              "      <td>completed</td>\n",
              "      <td>6.82</td>\n",
              "      <td>6.52</td>\n",
              "      <td>6.16</td>\n",
              "    </tr>\n",
              "    <tr>\n",
              "      <th>4</th>\n",
              "      <td>Jessica Martin</td>\n",
              "      <td>female</td>\n",
              "      <td>group B</td>\n",
              "      <td>associate's degree</td>\n",
              "      <td>free/reduced</td>\n",
              "      <td>none</td>\n",
              "      <td>4.18</td>\n",
              "      <td>5.20</td>\n",
              "      <td>5.20</td>\n",
              "    </tr>\n",
              "  </tbody>\n",
              "</table>\n",
              "</div>"
            ],
            "text/plain": [
              "             names  gender  ... reading score writing score\n",
              "0     Cheryl Kraus  female  ...          5.32          5.80\n",
              "1     Kristy Glass  female  ...          5.44          5.38\n",
              "2  Timothy Botello    male  ...          6.04          6.34\n",
              "3     Ronald Coria    male  ...          6.52          6.16\n",
              "4   Jessica Martin  female  ...          5.20          5.20\n",
              "\n",
              "[5 rows x 9 columns]"
            ]
          },
          "metadata": {},
          "execution_count": 28
        }
      ]
    },
    {
      "cell_type": "code",
      "metadata": {
        "colab": {
          "base_uri": "https://localhost:8080/",
          "height": 423
        },
        "id": "WegzHL18wuqo",
        "outputId": "0b01dc0f-7764-4a1a-eade-60e0504f8129"
      },
      "source": [
        "df_grades = pd.concat([df1,df2],axis=0)\n",
        "df_grades"
      ],
      "execution_count": 173,
      "outputs": [
        {
          "output_type": "execute_result",
          "data": {
            "text/html": [
              "<div>\n",
              "<style scoped>\n",
              "    .dataframe tbody tr th:only-of-type {\n",
              "        vertical-align: middle;\n",
              "    }\n",
              "\n",
              "    .dataframe tbody tr th {\n",
              "        vertical-align: top;\n",
              "    }\n",
              "\n",
              "    .dataframe thead th {\n",
              "        text-align: right;\n",
              "    }\n",
              "</style>\n",
              "<table border=\"1\" class=\"dataframe\">\n",
              "  <thead>\n",
              "    <tr style=\"text-align: right;\">\n",
              "      <th></th>\n",
              "      <th>names</th>\n",
              "      <th>gender</th>\n",
              "      <th>race/ethnicity</th>\n",
              "      <th>parental level of education</th>\n",
              "      <th>lunch</th>\n",
              "      <th>test preparation course</th>\n",
              "      <th>math score</th>\n",
              "      <th>reading score</th>\n",
              "      <th>writing score</th>\n",
              "    </tr>\n",
              "  </thead>\n",
              "  <tbody>\n",
              "    <tr>\n",
              "      <th>0</th>\n",
              "      <td>Rita Courtney</td>\n",
              "      <td>female</td>\n",
              "      <td>group B</td>\n",
              "      <td>some high school</td>\n",
              "      <td>standard</td>\n",
              "      <td>none</td>\n",
              "      <td>3.22</td>\n",
              "      <td>3.76</td>\n",
              "      <td>3.76</td>\n",
              "    </tr>\n",
              "    <tr>\n",
              "      <th>1</th>\n",
              "      <td>Charles Linstrom</td>\n",
              "      <td>male</td>\n",
              "      <td>group A</td>\n",
              "      <td>bachelor's degree</td>\n",
              "      <td>standard</td>\n",
              "      <td>completed</td>\n",
              "      <td>5.80</td>\n",
              "      <td>5.68</td>\n",
              "      <td>5.86</td>\n",
              "    </tr>\n",
              "    <tr>\n",
              "      <th>2</th>\n",
              "      <td>Brian Young</td>\n",
              "      <td>male</td>\n",
              "      <td>group C</td>\n",
              "      <td>some high school</td>\n",
              "      <td>standard</td>\n",
              "      <td>none</td>\n",
              "      <td>5.38</td>\n",
              "      <td>4.96</td>\n",
              "      <td>4.78</td>\n",
              "    </tr>\n",
              "    <tr>\n",
              "      <th>3</th>\n",
              "      <td>Howard Jimenez</td>\n",
              "      <td>male</td>\n",
              "      <td>group E</td>\n",
              "      <td>some high school</td>\n",
              "      <td>standard</td>\n",
              "      <td>completed</td>\n",
              "      <td>5.86</td>\n",
              "      <td>5.50</td>\n",
              "      <td>5.56</td>\n",
              "    </tr>\n",
              "    <tr>\n",
              "      <th>4</th>\n",
              "      <td>Wayne Wilson</td>\n",
              "      <td>male</td>\n",
              "      <td>group B</td>\n",
              "      <td>some high school</td>\n",
              "      <td>standard</td>\n",
              "      <td>completed</td>\n",
              "      <td>6.64</td>\n",
              "      <td>6.16</td>\n",
              "      <td>6.22</td>\n",
              "    </tr>\n",
              "    <tr>\n",
              "      <th>...</th>\n",
              "      <td>...</td>\n",
              "      <td>...</td>\n",
              "      <td>...</td>\n",
              "      <td>...</td>\n",
              "      <td>...</td>\n",
              "      <td>...</td>\n",
              "      <td>...</td>\n",
              "      <td>...</td>\n",
              "      <td>...</td>\n",
              "    </tr>\n",
              "    <tr>\n",
              "      <th>470</th>\n",
              "      <td>Richard Young</td>\n",
              "      <td>male</td>\n",
              "      <td>group D</td>\n",
              "      <td>high school</td>\n",
              "      <td>standard</td>\n",
              "      <td>none</td>\n",
              "      <td>5.14</td>\n",
              "      <td>5.50</td>\n",
              "      <td>5.26</td>\n",
              "    </tr>\n",
              "    <tr>\n",
              "      <th>471</th>\n",
              "      <td>Wanda Russell</td>\n",
              "      <td>female</td>\n",
              "      <td>group B</td>\n",
              "      <td>high school</td>\n",
              "      <td>free/reduced</td>\n",
              "      <td>completed</td>\n",
              "      <td>2.38</td>\n",
              "      <td>3.64</td>\n",
              "      <td>3.16</td>\n",
              "    </tr>\n",
              "    <tr>\n",
              "      <th>472</th>\n",
              "      <td>Marina Zeigler</td>\n",
              "      <td>female</td>\n",
              "      <td>group C</td>\n",
              "      <td>bachelor's degree</td>\n",
              "      <td>free/reduced</td>\n",
              "      <td>completed</td>\n",
              "      <td>4.96</td>\n",
              "      <td>5.44</td>\n",
              "      <td>5.86</td>\n",
              "    </tr>\n",
              "    <tr>\n",
              "      <th>473</th>\n",
              "      <td>Laurie Carter</td>\n",
              "      <td>female</td>\n",
              "      <td>group B</td>\n",
              "      <td>some high school</td>\n",
              "      <td>standard</td>\n",
              "      <td>completed</td>\n",
              "      <td>4.24</td>\n",
              "      <td>4.66</td>\n",
              "      <td>4.72</td>\n",
              "    </tr>\n",
              "    <tr>\n",
              "      <th>474</th>\n",
              "      <td>Amanda Perez</td>\n",
              "      <td>female</td>\n",
              "      <td>group A</td>\n",
              "      <td>high school</td>\n",
              "      <td>standard</td>\n",
              "      <td>completed</td>\n",
              "      <td>5.08</td>\n",
              "      <td>5.80</td>\n",
              "      <td>5.56</td>\n",
              "    </tr>\n",
              "  </tbody>\n",
              "</table>\n",
              "<p>875 rows × 9 columns</p>\n",
              "</div>"
            ],
            "text/plain": [
              "                names  gender  ... reading score writing score\n",
              "0       Rita Courtney  female  ...          3.76          3.76\n",
              "1    Charles Linstrom    male  ...          5.68          5.86\n",
              "2         Brian Young    male  ...          4.96          4.78\n",
              "3      Howard Jimenez    male  ...          5.50          5.56\n",
              "4        Wayne Wilson    male  ...          6.16          6.22\n",
              "..                ...     ...  ...           ...           ...\n",
              "470     Richard Young    male  ...          5.50          5.26\n",
              "471     Wanda Russell  female  ...          3.64          3.16\n",
              "472    Marina Zeigler  female  ...          5.44          5.86\n",
              "473     Laurie Carter  female  ...          4.66          4.72\n",
              "474      Amanda Perez  female  ...          5.80          5.56\n",
              "\n",
              "[875 rows x 9 columns]"
            ]
          },
          "metadata": {},
          "execution_count": 173
        }
      ]
    },
    {
      "cell_type": "markdown",
      "metadata": {
        "id": "MbODyW7swuqp"
      },
      "source": [
        "Resultado esperado:"
      ]
    },
    {
      "cell_type": "code",
      "metadata": {
        "id": "bED3w3tDbSCf",
        "outputId": "e9ebd24d-6134-4b93-cc37-5f98fd5ee042"
      },
      "source": [
        "df_grades"
      ],
      "execution_count": null,
      "outputs": [
        {
          "output_type": "execute_result",
          "data": {
            "text/html": [
              "<div>\n",
              "<style scoped>\n",
              "    .dataframe tbody tr th:only-of-type {\n",
              "        vertical-align: middle;\n",
              "    }\n",
              "\n",
              "    .dataframe tbody tr th {\n",
              "        vertical-align: top;\n",
              "    }\n",
              "\n",
              "    .dataframe thead th {\n",
              "        text-align: right;\n",
              "    }\n",
              "</style>\n",
              "<table border=\"1\" class=\"dataframe\">\n",
              "  <thead>\n",
              "    <tr style=\"text-align: right;\">\n",
              "      <th></th>\n",
              "      <th>names</th>\n",
              "      <th>gender</th>\n",
              "      <th>race/ethnicity</th>\n",
              "      <th>parental level of education</th>\n",
              "      <th>lunch</th>\n",
              "      <th>test preparation course</th>\n",
              "      <th>math score</th>\n",
              "      <th>reading score</th>\n",
              "      <th>writing score</th>\n",
              "    </tr>\n",
              "  </thead>\n",
              "  <tbody>\n",
              "    <tr>\n",
              "      <th>0</th>\n",
              "      <td>Rita Courtney</td>\n",
              "      <td>female</td>\n",
              "      <td>group B</td>\n",
              "      <td>some high school</td>\n",
              "      <td>standard</td>\n",
              "      <td>none</td>\n",
              "      <td>3.22</td>\n",
              "      <td>3.76</td>\n",
              "      <td>3.76</td>\n",
              "    </tr>\n",
              "    <tr>\n",
              "      <th>1</th>\n",
              "      <td>Charles Linstrom</td>\n",
              "      <td>male</td>\n",
              "      <td>group A</td>\n",
              "      <td>bachelor's degree</td>\n",
              "      <td>standard</td>\n",
              "      <td>completed</td>\n",
              "      <td>5.80</td>\n",
              "      <td>5.68</td>\n",
              "      <td>5.86</td>\n",
              "    </tr>\n",
              "    <tr>\n",
              "      <th>2</th>\n",
              "      <td>Brian Young</td>\n",
              "      <td>male</td>\n",
              "      <td>group C</td>\n",
              "      <td>some high school</td>\n",
              "      <td>standard</td>\n",
              "      <td>none</td>\n",
              "      <td>5.38</td>\n",
              "      <td>4.96</td>\n",
              "      <td>4.78</td>\n",
              "    </tr>\n",
              "    <tr>\n",
              "      <th>3</th>\n",
              "      <td>Howard Jimenez</td>\n",
              "      <td>male</td>\n",
              "      <td>group E</td>\n",
              "      <td>some high school</td>\n",
              "      <td>standard</td>\n",
              "      <td>completed</td>\n",
              "      <td>5.86</td>\n",
              "      <td>5.50</td>\n",
              "      <td>5.56</td>\n",
              "    </tr>\n",
              "    <tr>\n",
              "      <th>4</th>\n",
              "      <td>Wayne Wilson</td>\n",
              "      <td>male</td>\n",
              "      <td>group B</td>\n",
              "      <td>some high school</td>\n",
              "      <td>standard</td>\n",
              "      <td>completed</td>\n",
              "      <td>6.64</td>\n",
              "      <td>6.16</td>\n",
              "      <td>6.22</td>\n",
              "    </tr>\n",
              "    <tr>\n",
              "      <th>...</th>\n",
              "      <td>...</td>\n",
              "      <td>...</td>\n",
              "      <td>...</td>\n",
              "      <td>...</td>\n",
              "      <td>...</td>\n",
              "      <td>...</td>\n",
              "      <td>...</td>\n",
              "      <td>...</td>\n",
              "      <td>...</td>\n",
              "    </tr>\n",
              "    <tr>\n",
              "      <th>470</th>\n",
              "      <td>Richard Young</td>\n",
              "      <td>male</td>\n",
              "      <td>group D</td>\n",
              "      <td>high school</td>\n",
              "      <td>standard</td>\n",
              "      <td>none</td>\n",
              "      <td>5.14</td>\n",
              "      <td>5.50</td>\n",
              "      <td>5.26</td>\n",
              "    </tr>\n",
              "    <tr>\n",
              "      <th>471</th>\n",
              "      <td>Wanda Russell</td>\n",
              "      <td>female</td>\n",
              "      <td>group B</td>\n",
              "      <td>high school</td>\n",
              "      <td>free/reduced</td>\n",
              "      <td>completed</td>\n",
              "      <td>2.38</td>\n",
              "      <td>3.64</td>\n",
              "      <td>3.16</td>\n",
              "    </tr>\n",
              "    <tr>\n",
              "      <th>472</th>\n",
              "      <td>Marina Zeigler</td>\n",
              "      <td>female</td>\n",
              "      <td>group C</td>\n",
              "      <td>bachelor's degree</td>\n",
              "      <td>free/reduced</td>\n",
              "      <td>completed</td>\n",
              "      <td>4.96</td>\n",
              "      <td>5.44</td>\n",
              "      <td>5.86</td>\n",
              "    </tr>\n",
              "    <tr>\n",
              "      <th>473</th>\n",
              "      <td>Laurie Carter</td>\n",
              "      <td>female</td>\n",
              "      <td>group B</td>\n",
              "      <td>some high school</td>\n",
              "      <td>standard</td>\n",
              "      <td>completed</td>\n",
              "      <td>4.24</td>\n",
              "      <td>4.66</td>\n",
              "      <td>4.72</td>\n",
              "    </tr>\n",
              "    <tr>\n",
              "      <th>474</th>\n",
              "      <td>Amanda Perez</td>\n",
              "      <td>female</td>\n",
              "      <td>group A</td>\n",
              "      <td>high school</td>\n",
              "      <td>standard</td>\n",
              "      <td>completed</td>\n",
              "      <td>5.08</td>\n",
              "      <td>5.80</td>\n",
              "      <td>5.56</td>\n",
              "    </tr>\n",
              "  </tbody>\n",
              "</table>\n",
              "<p>875 rows × 9 columns</p>\n",
              "</div>"
            ],
            "text/plain": [
              "                names  gender race/ethnicity parental level of education  \\\n",
              "0       Rita Courtney  female        group B            some high school   \n",
              "1    Charles Linstrom    male        group A           bachelor's degree   \n",
              "2         Brian Young    male        group C            some high school   \n",
              "3      Howard Jimenez    male        group E            some high school   \n",
              "4        Wayne Wilson    male        group B            some high school   \n",
              "..                ...     ...            ...                         ...   \n",
              "470     Richard Young    male        group D                 high school   \n",
              "471     Wanda Russell  female        group B                 high school   \n",
              "472    Marina Zeigler  female        group C           bachelor's degree   \n",
              "473     Laurie Carter  female        group B            some high school   \n",
              "474      Amanda Perez  female        group A                 high school   \n",
              "\n",
              "            lunch test preparation course  math score  reading score  \\\n",
              "0        standard                    none        3.22           3.76   \n",
              "1        standard               completed        5.80           5.68   \n",
              "2        standard                    none        5.38           4.96   \n",
              "3        standard               completed        5.86           5.50   \n",
              "4        standard               completed        6.64           6.16   \n",
              "..            ...                     ...         ...            ...   \n",
              "470      standard                    none        5.14           5.50   \n",
              "471  free/reduced               completed        2.38           3.64   \n",
              "472  free/reduced               completed        4.96           5.44   \n",
              "473      standard               completed        4.24           4.66   \n",
              "474      standard               completed        5.08           5.80   \n",
              "\n",
              "     writing score  \n",
              "0             3.76  \n",
              "1             5.86  \n",
              "2             4.78  \n",
              "3             5.56  \n",
              "4             6.22  \n",
              "..             ...  \n",
              "470           5.26  \n",
              "471           3.16  \n",
              "472           5.86  \n",
              "473           4.72  \n",
              "474           5.56  \n",
              "\n",
              "[875 rows x 9 columns]"
            ]
          },
          "metadata": {},
          "execution_count": 4
        }
      ]
    },
    {
      "cell_type": "markdown",
      "metadata": {
        "id": "FpZ4GQJkwuqr"
      },
      "source": [
        "## Análisis de Las Notas v2 [1.5 Puntos]\n",
        "\n",
        "Preocupado por la dificultad que representan los boxplot, el rector le solicita buscar alternativas de visualización la distribución de las notas. \n",
        "\n",
        "Para esto, muestre el [boxplot](https://plotly.com/python/box-plots/) mostrado la clase anterior, utilice un [displot](https://plotly.com/python/distplot/#distplot-with-pandas) como también un [histograma con un gráfico marginal de caja](https://plotly.com/python/histograms/#visualizing-the-distribution) como también un [histograma con el ramo como faceta de fila](https://plotly.com/python/facet-plots/#histogram-facet-grids).\n",
        "\n",
        "Luego, responda las siguientes pregunta: \n",
        "\n",
        "> 1. ¿Existe una diferencia notable entre las notas?\n",
        "\n",
        "> 2. ¿Cuál de los gráficos mostrados cree que es adecuado para mostrarle al rector? ¿Y a los padres? ¿Y a un centro de estudios educativos? ¿Por qué?. Base sus respuestas en lo visto en la clase de visualizaciones como también en lo que usted y su equipo consideren correcto.\n",
        "\n",
        "> Hint: Para elaborar el histograma, puede que le sea de utilidad hacer un `melt` del DataFrame, dejando como variables los ramos y valores las notas. Por otra parte, visiten la documentación para generar los gráficos.\n"
      ]
    },
    {
      "cell_type": "markdown",
      "metadata": {
        "id": "cVXt4rj-wuqr"
      },
      "source": [
        "**Gráfico de Caja:**"
      ]
    },
    {
      "cell_type": "code",
      "metadata": {
        "id": "j8coME3owuqs"
      },
      "source": [
        "def plot_box(df):\n",
        "  fig = go.Figure()\n",
        "  fig.add_trace(go.Box(y=df['math score'],name='Math'))\n",
        "  fig.add_trace(go.Box(y=df['reading score'],name='Reading'))\n",
        "  fig.add_trace(go.Box(y=df['writing score'],name='Writing'))\n",
        "  fig.update_xaxes(title_text=\"Test\")\n",
        "  fig.update_yaxes(title_text=\"Score\")\n",
        "\n",
        "  fig.show()\n",
        "\n",
        "plot_box(df_grades)"
      ],
      "execution_count": null,
      "outputs": []
    },
    {
      "cell_type": "markdown",
      "metadata": {
        "id": "F_G15Nuawuqs"
      },
      "source": [
        "**Distplot:**"
      ]
    },
    {
      "cell_type": "code",
      "metadata": {
        "id": "OIGGfxTswuqs"
      },
      "source": [
        "def plot_dist(df):\n",
        "  hist_data = [df['math score'],df['reading score'],df['writing score']]\n",
        "  labels = ['math score','reading score','writing score']\n",
        "\n",
        "  fig = ff.create_distplot(hist_data, labels, show_hist = False, bin_size=.25, show_rug=False)\n",
        "  fig.show()  \n",
        "\n",
        "plot_dist(df_grades)"
      ],
      "execution_count": null,
      "outputs": []
    },
    {
      "cell_type": "markdown",
      "metadata": {
        "id": "-qrUYPERwuqt"
      },
      "source": [
        "**Histograma con Boxplots:**"
      ]
    },
    {
      "cell_type": "code",
      "metadata": {
        "id": "aIlDgfHRwuqt"
      },
      "source": [
        "def plot_hist_box(df):\n",
        "  math = df[['math score']]\n",
        "  math.columns = ['score']\n",
        "  math['subject'] = 'math score'\n",
        "\n",
        "  read = df[['reading score']]\n",
        "  read.columns = ['score']\n",
        "  read['subject'] = 'reading score'\n",
        "\n",
        "  write = df[['writing score']]\n",
        "  write.columns = ['score']\n",
        "  write['subject'] = 'writing score'\n",
        "\n",
        "  qw = pd.concat([math,read,write],axis=0)\n",
        "\n",
        "  fig = px.histogram(qw, x='score', color='subject',\n",
        "                   marginal=\"box\", nbins=7, barmode='group')\n",
        "  fig.show()\n",
        "\n",
        "plot_hist_box(df_grades)"
      ],
      "execution_count": null,
      "outputs": []
    },
    {
      "cell_type": "markdown",
      "metadata": {
        "id": "uX_RK9uXwuqu"
      },
      "source": [
        "**Histograma con Faceta:**"
      ]
    },
    {
      "cell_type": "code",
      "metadata": {
        "id": "HnSq69LEwuqv"
      },
      "source": [
        "def plot_hist_face(df):\n",
        "  math = df[['math score']]\n",
        "  math.columns = ['score']\n",
        "  math['subject'] = 'math score'\n",
        "\n",
        "  read = df[['reading score']]\n",
        "  read.columns = ['score']\n",
        "  read['subject'] = 'reading score'\n",
        "\n",
        "  write = df[['writing score']]\n",
        "  write.columns = ['score']\n",
        "  write['subject'] = 'writing score'\n",
        "\n",
        "  qw = pd.concat([math,read,write],axis=0)\n",
        "\n",
        "  fig = px.histogram(qw, x='score', color='subject',\n",
        "                   facet_row='subject')\n",
        "  fig.show()\n",
        "\n",
        "plot_hist_face(df_grades)"
      ],
      "execution_count": null,
      "outputs": []
    },
    {
      "cell_type": "markdown",
      "metadata": {
        "id": "Eoc4rniBwuqw"
      },
      "source": [
        "**Justifique:**"
      ]
    },
    {
      "cell_type": "markdown",
      "metadata": {
        "id": "OIrFhqRSwuqw"
      },
      "source": [
        "¿Existe una diferencia notable entre las notas?\n",
        "\n",
        "¿Cuál de los gráficos mostrados cree que es adecuado para mostrarle al rector? ¿Y a los padres? ¿Y a un centro de estudios educativos? ¿Por qué?. Base sus respuestas en lo visto en la clase de visualizaciones como también en lo que usted y su equipo consideren correcto\n",
        "\n",
        "> No, no existe una diferencia notable entre las notas en las 3 asignaturas.\n",
        "\n",
        "> A mi juicio, la visualización de histograma con boxplots es la más adecuada de presentar. Pues es la visualización que mezcla la simplicidad para generar entendimiento en el espectador a su vez que incorpora la mayor cantidad de información, en palabras sencillas esta visualización \"tiene mucha información y es fácil de entender y explicar\". Entre los beneficios de esta visualización se puede mencionar que es simple de identificar la distribución de las notas \"por segmento de nota\" y la distribución general de todas las notas."
      ]
    },
    {
      "cell_type": "markdown",
      "metadata": {
        "id": "zZnf6y18wuqx"
      },
      "source": [
        "## Análisis por Nivel Educacional Etnia de los Padres [1.5 Puntos]\n",
        "\n",
        "El rector, basado en su experiencia, cree fuertemente que el nivel educacional y la etnia de los padres influyen en las notas que obtienen sus hijos. \n",
        "Como científicos de datos, ud. y su equipo creen que deben encontrar evidencia para confirmar o refutar la hipótesis del rector.\n",
        "\n",
        "Para esto, deciden generar dos análisis: una tabla de resumen por una parte y gráficos de caja por otro.\n",
        "\n",
        "### Tabla de Resumen\n",
        "\n",
        "Para generar la tabla de resumen:\n",
        "\n",
        "- [x] Calcular el promedio de las notas y guardarlo en una variable `GPA` (grade point average).\n",
        "- [x] Hacer una simplificación a través de un mapeo (investigar `map()`) de la variable `parental level of education`  según la siguiente conversión: \n",
        "\n",
        "        some high school -> school\n",
        "        some college -> school\n",
        "        high school -> school\n",
        "        bachelor's degree -> college\n",
        "        associate's degree -> college\n",
        "        master's degree -> postgraduate\n",
        "\n",
        "  Los resultados de este mapeo deben ser guardados en la columna `simple parental level of education`.\n",
        "\n",
        "\n",
        "- [x] Agregar según 2 niveles: `race/ethnicity` y `simple parental level of education` para obtener el promedio de las notas. \n",
        "- [x] Agregar según 2 niveles: `race/ethnicity` y `simple parental level of education` para obtener un conteo de los alumnos en cada grupo y agregarlos como una nueva fila count.\n",
        "- [x] Obtener el porcentaje de alumnos con respecto al total. Los porcentajes deben ser strings que contienen la frecuencia de cada grupo con respecto al total y deben ser terminados en '%'. \n",
        "\n",
        "\n",
        "Utilizar la tabla de resultados esperados como guía para desarrollar este punto."
      ]
    },
    {
      "cell_type": "markdown",
      "metadata": {
        "id": "nFP8X1L4B1v9"
      },
      "source": [
        "### 1.3.4 Información por Categorías [1 punto]"
      ]
    },
    {
      "cell_type": "code",
      "metadata": {
        "colab": {
          "base_uri": "https://localhost:8080/",
          "height": 551
        },
        "id": "DCTZNHKOwuqy",
        "outputId": "13b321a2-2655-40c4-b8c6-9b8e8388bf3d"
      },
      "source": [
        "def estudia_hipotesis(df):\n",
        "  df['GPA'] = np.round((df['math score'] + df['reading score'] + df['writing score'])/3,2)\n",
        "\n",
        "  df['simple parental level of education'] = df['parental level of education'].map(\n",
        "    {   \"some high school\": \"school\",\n",
        "        \"some college\": \"school\",\n",
        "        \"high school\": \"school\",\n",
        "        \"bachelor's degree\": \"college\",\n",
        "        \"associate's degree\": \"college\",\n",
        "        \"master's degree\": \"postgraduate\"    })\n",
        "  \n",
        "  qw = df.groupby(['race/ethnicity','simple parental level of education']).agg({'math score':['mean'],\n",
        "                                                                         'reading score':['mean'],\n",
        "                                                                         'writing score':['mean'],\n",
        "                                                                         'GPA':['mean','count']})\n",
        "  #qw = qw.reset_index()\n",
        "  qw.columns = ['math score', 'reading score', 'writing score', 'GPA', 'count']\n",
        "\n",
        "  total = len(df)\n",
        "  porcentaje = [100*i/total for i in qw['count']]\n",
        "  porcentaje = [str(i)[:4]+'%' for i in porcentaje]\n",
        "  qw['porcentaje'] = porcentaje\n",
        "  qw = qw.reset_index(level='simple parental level of education')\n",
        "\n",
        "  return qw\n",
        "\n",
        "df_grades_new = estudia_hipotesis(df_grades)\n",
        "df_grades_new"
      ],
      "execution_count": 178,
      "outputs": [
        {
          "output_type": "execute_result",
          "data": {
            "text/html": [
              "<div>\n",
              "<style scoped>\n",
              "    .dataframe tbody tr th:only-of-type {\n",
              "        vertical-align: middle;\n",
              "    }\n",
              "\n",
              "    .dataframe tbody tr th {\n",
              "        vertical-align: top;\n",
              "    }\n",
              "\n",
              "    .dataframe thead th {\n",
              "        text-align: right;\n",
              "    }\n",
              "</style>\n",
              "<table border=\"1\" class=\"dataframe\">\n",
              "  <thead>\n",
              "    <tr style=\"text-align: right;\">\n",
              "      <th></th>\n",
              "      <th>simple parental level of education</th>\n",
              "      <th>math score</th>\n",
              "      <th>reading score</th>\n",
              "      <th>writing score</th>\n",
              "      <th>GPA</th>\n",
              "      <th>count</th>\n",
              "      <th>porcentaje</th>\n",
              "    </tr>\n",
              "    <tr>\n",
              "      <th>race/ethnicity</th>\n",
              "      <th></th>\n",
              "      <th></th>\n",
              "      <th></th>\n",
              "      <th></th>\n",
              "      <th></th>\n",
              "      <th></th>\n",
              "      <th></th>\n",
              "    </tr>\n",
              "  </thead>\n",
              "  <tbody>\n",
              "    <tr>\n",
              "      <th>group A</th>\n",
              "      <td>college</td>\n",
              "      <td>4.735000</td>\n",
              "      <td>5.005000</td>\n",
              "      <td>4.890000</td>\n",
              "      <td>4.876667</td>\n",
              "      <td>24</td>\n",
              "      <td>2.74%</td>\n",
              "    </tr>\n",
              "    <tr>\n",
              "      <th>group A</th>\n",
              "      <td>postgraduate</td>\n",
              "      <td>4.690000</td>\n",
              "      <td>5.230000</td>\n",
              "      <td>5.350000</td>\n",
              "      <td>5.090000</td>\n",
              "      <td>2</td>\n",
              "      <td>0.22%</td>\n",
              "    </tr>\n",
              "    <tr>\n",
              "      <th>group A</th>\n",
              "      <td>school</td>\n",
              "      <td>4.568235</td>\n",
              "      <td>4.725882</td>\n",
              "      <td>4.558824</td>\n",
              "      <td>4.617647</td>\n",
              "      <td>51</td>\n",
              "      <td>5.82%</td>\n",
              "    </tr>\n",
              "    <tr>\n",
              "      <th>group B</th>\n",
              "      <td>college</td>\n",
              "      <td>5.070000</td>\n",
              "      <td>5.264444</td>\n",
              "      <td>5.192222</td>\n",
              "      <td>5.175556</td>\n",
              "      <td>54</td>\n",
              "      <td>6.17%</td>\n",
              "    </tr>\n",
              "    <tr>\n",
              "      <th>group B</th>\n",
              "      <td>postgraduate</td>\n",
              "      <td>4.912000</td>\n",
              "      <td>5.692000</td>\n",
              "      <td>5.548000</td>\n",
              "      <td>5.384000</td>\n",
              "      <td>5</td>\n",
              "      <td>0.57%</td>\n",
              "    </tr>\n",
              "    <tr>\n",
              "      <th>group B</th>\n",
              "      <td>school</td>\n",
              "      <td>4.689159</td>\n",
              "      <td>4.887664</td>\n",
              "      <td>4.764299</td>\n",
              "      <td>4.780374</td>\n",
              "      <td>107</td>\n",
              "      <td>12.2%</td>\n",
              "    </tr>\n",
              "    <tr>\n",
              "      <th>group C</th>\n",
              "      <td>college</td>\n",
              "      <td>5.021765</td>\n",
              "      <td>5.370588</td>\n",
              "      <td>5.354706</td>\n",
              "      <td>5.249020</td>\n",
              "      <td>102</td>\n",
              "      <td>11.6%</td>\n",
              "    </tr>\n",
              "    <tr>\n",
              "      <th>group C</th>\n",
              "      <td>postgraduate</td>\n",
              "      <td>4.924000</td>\n",
              "      <td>5.144000</td>\n",
              "      <td>5.104000</td>\n",
              "      <td>5.057333</td>\n",
              "      <td>15</td>\n",
              "      <td>1.71%</td>\n",
              "    </tr>\n",
              "    <tr>\n",
              "      <th>group C</th>\n",
              "      <td>school</td>\n",
              "      <td>4.764516</td>\n",
              "      <td>5.023871</td>\n",
              "      <td>4.919355</td>\n",
              "      <td>4.902581</td>\n",
              "      <td>155</td>\n",
              "      <td>17.7%</td>\n",
              "    </tr>\n",
              "    <tr>\n",
              "      <th>group D</th>\n",
              "      <td>college</td>\n",
              "      <td>5.108286</td>\n",
              "      <td>5.248000</td>\n",
              "      <td>5.248857</td>\n",
              "      <td>5.201714</td>\n",
              "      <td>70</td>\n",
              "      <td>8.0%</td>\n",
              "    </tr>\n",
              "    <tr>\n",
              "      <th>group D</th>\n",
              "      <td>postgraduate</td>\n",
              "      <td>5.218000</td>\n",
              "      <td>5.542000</td>\n",
              "      <td>5.734000</td>\n",
              "      <td>5.498000</td>\n",
              "      <td>20</td>\n",
              "      <td>2.28%</td>\n",
              "    </tr>\n",
              "    <tr>\n",
              "      <th>group D</th>\n",
              "      <td>school</td>\n",
              "      <td>5.018792</td>\n",
              "      <td>5.128725</td>\n",
              "      <td>5.110201</td>\n",
              "      <td>5.085906</td>\n",
              "      <td>149</td>\n",
              "      <td>17.0%</td>\n",
              "    </tr>\n",
              "    <tr>\n",
              "      <th>group E</th>\n",
              "      <td>college</td>\n",
              "      <td>5.542692</td>\n",
              "      <td>5.453846</td>\n",
              "      <td>5.450385</td>\n",
              "      <td>5.482308</td>\n",
              "      <td>52</td>\n",
              "      <td>5.94%</td>\n",
              "    </tr>\n",
              "    <tr>\n",
              "      <th>group E</th>\n",
              "      <td>postgraduate</td>\n",
              "      <td>5.540000</td>\n",
              "      <td>6.030000</td>\n",
              "      <td>5.890000</td>\n",
              "      <td>5.820000</td>\n",
              "      <td>6</td>\n",
              "      <td>0.68%</td>\n",
              "    </tr>\n",
              "    <tr>\n",
              "      <th>group E</th>\n",
              "      <td>school</td>\n",
              "      <td>5.396190</td>\n",
              "      <td>5.311429</td>\n",
              "      <td>5.159048</td>\n",
              "      <td>5.288889</td>\n",
              "      <td>63</td>\n",
              "      <td>7.2%</td>\n",
              "    </tr>\n",
              "  </tbody>\n",
              "</table>\n",
              "</div>"
            ],
            "text/plain": [
              "               simple parental level of education  math score  ...  count  porcentaje\n",
              "race/ethnicity                                                 ...                   \n",
              "group A                                   college    4.735000  ...     24       2.74%\n",
              "group A                              postgraduate    4.690000  ...      2       0.22%\n",
              "group A                                    school    4.568235  ...     51       5.82%\n",
              "group B                                   college    5.070000  ...     54       6.17%\n",
              "group B                              postgraduate    4.912000  ...      5       0.57%\n",
              "group B                                    school    4.689159  ...    107       12.2%\n",
              "group C                                   college    5.021765  ...    102       11.6%\n",
              "group C                              postgraduate    4.924000  ...     15       1.71%\n",
              "group C                                    school    4.764516  ...    155       17.7%\n",
              "group D                                   college    5.108286  ...     70        8.0%\n",
              "group D                              postgraduate    5.218000  ...     20       2.28%\n",
              "group D                                    school    5.018792  ...    149       17.0%\n",
              "group E                                   college    5.542692  ...     52       5.94%\n",
              "group E                              postgraduate    5.540000  ...      6       0.68%\n",
              "group E                                    school    5.396190  ...     63        7.2%\n",
              "\n",
              "[15 rows x 7 columns]"
            ]
          },
          "metadata": {},
          "execution_count": 178
        }
      ]
    },
    {
      "cell_type": "code",
      "metadata": {
        "colab": {
          "base_uri": "https://localhost:8080/",
          "height": 519
        },
        "id": "hG8hZxp4JYLy",
        "outputId": "187e355a-78ff-4e37-fbf8-cfae87eb5d31"
      },
      "source": [
        "df_grades_new"
      ],
      "execution_count": 175,
      "outputs": [
        {
          "output_type": "execute_result",
          "data": {
            "text/html": [
              "<div>\n",
              "<style scoped>\n",
              "    .dataframe tbody tr th:only-of-type {\n",
              "        vertical-align: middle;\n",
              "    }\n",
              "\n",
              "    .dataframe tbody tr th {\n",
              "        vertical-align: top;\n",
              "    }\n",
              "\n",
              "    .dataframe thead th {\n",
              "        text-align: right;\n",
              "    }\n",
              "</style>\n",
              "<table border=\"1\" class=\"dataframe\">\n",
              "  <thead>\n",
              "    <tr style=\"text-align: right;\">\n",
              "      <th></th>\n",
              "      <th>race/ethnicity</th>\n",
              "      <th>simple parental level of education</th>\n",
              "      <th>math score</th>\n",
              "      <th>reading score</th>\n",
              "      <th>writing score</th>\n",
              "      <th>GPA</th>\n",
              "      <th>count</th>\n",
              "      <th>porcentaje</th>\n",
              "    </tr>\n",
              "  </thead>\n",
              "  <tbody>\n",
              "    <tr>\n",
              "      <th>0</th>\n",
              "      <td>group A</td>\n",
              "      <td>college</td>\n",
              "      <td>4.735000</td>\n",
              "      <td>5.005000</td>\n",
              "      <td>4.890000</td>\n",
              "      <td>4.876667</td>\n",
              "      <td>24</td>\n",
              "      <td>2.74%</td>\n",
              "    </tr>\n",
              "    <tr>\n",
              "      <th>1</th>\n",
              "      <td>group A</td>\n",
              "      <td>postgraduate</td>\n",
              "      <td>4.690000</td>\n",
              "      <td>5.230000</td>\n",
              "      <td>5.350000</td>\n",
              "      <td>5.090000</td>\n",
              "      <td>2</td>\n",
              "      <td>0.22%</td>\n",
              "    </tr>\n",
              "    <tr>\n",
              "      <th>2</th>\n",
              "      <td>group A</td>\n",
              "      <td>school</td>\n",
              "      <td>4.568235</td>\n",
              "      <td>4.725882</td>\n",
              "      <td>4.558824</td>\n",
              "      <td>4.617647</td>\n",
              "      <td>51</td>\n",
              "      <td>5.82%</td>\n",
              "    </tr>\n",
              "    <tr>\n",
              "      <th>3</th>\n",
              "      <td>group B</td>\n",
              "      <td>college</td>\n",
              "      <td>5.070000</td>\n",
              "      <td>5.264444</td>\n",
              "      <td>5.192222</td>\n",
              "      <td>5.175556</td>\n",
              "      <td>54</td>\n",
              "      <td>6.17%</td>\n",
              "    </tr>\n",
              "    <tr>\n",
              "      <th>4</th>\n",
              "      <td>group B</td>\n",
              "      <td>postgraduate</td>\n",
              "      <td>4.912000</td>\n",
              "      <td>5.692000</td>\n",
              "      <td>5.548000</td>\n",
              "      <td>5.384000</td>\n",
              "      <td>5</td>\n",
              "      <td>0.57%</td>\n",
              "    </tr>\n",
              "    <tr>\n",
              "      <th>5</th>\n",
              "      <td>group B</td>\n",
              "      <td>school</td>\n",
              "      <td>4.689159</td>\n",
              "      <td>4.887664</td>\n",
              "      <td>4.764299</td>\n",
              "      <td>4.780374</td>\n",
              "      <td>107</td>\n",
              "      <td>12.2%</td>\n",
              "    </tr>\n",
              "    <tr>\n",
              "      <th>6</th>\n",
              "      <td>group C</td>\n",
              "      <td>college</td>\n",
              "      <td>5.021765</td>\n",
              "      <td>5.370588</td>\n",
              "      <td>5.354706</td>\n",
              "      <td>5.249020</td>\n",
              "      <td>102</td>\n",
              "      <td>11.6%</td>\n",
              "    </tr>\n",
              "    <tr>\n",
              "      <th>7</th>\n",
              "      <td>group C</td>\n",
              "      <td>postgraduate</td>\n",
              "      <td>4.924000</td>\n",
              "      <td>5.144000</td>\n",
              "      <td>5.104000</td>\n",
              "      <td>5.057333</td>\n",
              "      <td>15</td>\n",
              "      <td>1.71%</td>\n",
              "    </tr>\n",
              "    <tr>\n",
              "      <th>8</th>\n",
              "      <td>group C</td>\n",
              "      <td>school</td>\n",
              "      <td>4.764516</td>\n",
              "      <td>5.023871</td>\n",
              "      <td>4.919355</td>\n",
              "      <td>4.902581</td>\n",
              "      <td>155</td>\n",
              "      <td>17.7%</td>\n",
              "    </tr>\n",
              "    <tr>\n",
              "      <th>9</th>\n",
              "      <td>group D</td>\n",
              "      <td>college</td>\n",
              "      <td>5.108286</td>\n",
              "      <td>5.248000</td>\n",
              "      <td>5.248857</td>\n",
              "      <td>5.201714</td>\n",
              "      <td>70</td>\n",
              "      <td>8.0%</td>\n",
              "    </tr>\n",
              "    <tr>\n",
              "      <th>10</th>\n",
              "      <td>group D</td>\n",
              "      <td>postgraduate</td>\n",
              "      <td>5.218000</td>\n",
              "      <td>5.542000</td>\n",
              "      <td>5.734000</td>\n",
              "      <td>5.498000</td>\n",
              "      <td>20</td>\n",
              "      <td>2.28%</td>\n",
              "    </tr>\n",
              "    <tr>\n",
              "      <th>11</th>\n",
              "      <td>group D</td>\n",
              "      <td>school</td>\n",
              "      <td>5.018792</td>\n",
              "      <td>5.128725</td>\n",
              "      <td>5.110201</td>\n",
              "      <td>5.085906</td>\n",
              "      <td>149</td>\n",
              "      <td>17.0%</td>\n",
              "    </tr>\n",
              "    <tr>\n",
              "      <th>12</th>\n",
              "      <td>group E</td>\n",
              "      <td>college</td>\n",
              "      <td>5.542692</td>\n",
              "      <td>5.453846</td>\n",
              "      <td>5.450385</td>\n",
              "      <td>5.482308</td>\n",
              "      <td>52</td>\n",
              "      <td>5.94%</td>\n",
              "    </tr>\n",
              "    <tr>\n",
              "      <th>13</th>\n",
              "      <td>group E</td>\n",
              "      <td>postgraduate</td>\n",
              "      <td>5.540000</td>\n",
              "      <td>6.030000</td>\n",
              "      <td>5.890000</td>\n",
              "      <td>5.820000</td>\n",
              "      <td>6</td>\n",
              "      <td>0.68%</td>\n",
              "    </tr>\n",
              "    <tr>\n",
              "      <th>14</th>\n",
              "      <td>group E</td>\n",
              "      <td>school</td>\n",
              "      <td>5.396190</td>\n",
              "      <td>5.311429</td>\n",
              "      <td>5.159048</td>\n",
              "      <td>5.288889</td>\n",
              "      <td>63</td>\n",
              "      <td>7.2%</td>\n",
              "    </tr>\n",
              "  </tbody>\n",
              "</table>\n",
              "</div>"
            ],
            "text/plain": [
              "   race/ethnicity simple parental level of education  ...  count  porcentaje\n",
              "0         group A                            college  ...     24       2.74%\n",
              "1         group A                       postgraduate  ...      2       0.22%\n",
              "2         group A                             school  ...     51       5.82%\n",
              "3         group B                            college  ...     54       6.17%\n",
              "4         group B                       postgraduate  ...      5       0.57%\n",
              "5         group B                             school  ...    107       12.2%\n",
              "6         group C                            college  ...    102       11.6%\n",
              "7         group C                       postgraduate  ...     15       1.71%\n",
              "8         group C                             school  ...    155       17.7%\n",
              "9         group D                            college  ...     70        8.0%\n",
              "10        group D                       postgraduate  ...     20       2.28%\n",
              "11        group D                             school  ...    149       17.0%\n",
              "12        group E                            college  ...     52       5.94%\n",
              "13        group E                       postgraduate  ...      6       0.68%\n",
              "14        group E                             school  ...     63        7.2%\n",
              "\n",
              "[15 rows x 8 columns]"
            ]
          },
          "metadata": {},
          "execution_count": 175
        }
      ]
    },
    {
      "cell_type": "markdown",
      "metadata": {
        "id": "TCRY0oBNwuqz"
      },
      "source": [
        "**Resultado Esperado**\n",
        "\n",
        "|    | race/ethnicity   | simple parental level of education   |   math score |   reading score |   writing score |   GPA |   count | percentage   |\n",
        "|---:|:-----------------|:-------------------------------------|-------------:|----------------:|----------------:|------:|--------:|:-------------|\n",
        "|  0 | group A          | college                              |         4.74 |            5    |            4.89 |  4.88 |      24 | 2.74 %       |\n",
        "|  1 |           | postgraduate                         |         4.69 |            5.23 |            5.35 |  5.09 |       2 | 0.23 %       |\n",
        "|  2 |           | school                               |         4.57 |            4.73 |            4.56 |  4.62 |      51 | 5.83 %       |\n",
        "|  3 | group B          | college                              |         5.07 |            5.26 |            5.19 |  5.18 |      54 | 6.17 %       |\n",
        "|  4 |           | postgraduate                         |         4.91 |            5.69 |            5.55 |  5.38 |       5 | 0.57 %       |\n",
        "|  5 |           | school                               |         4.69 |            4.89 |            4.76 |  4.78 |     107 | 12.23 %      |\n",
        "|  6 | group C          | college                              |         5.02 |            5.37 |            5.35 |  5.25 |     102 | 11.66 %      |\n",
        "|  7 |           | postgraduate                         |         4.92 |            5.14 |            5.1  |  5.06 |      15 | 1.71 %       |\n",
        "|  8 |           | school                               |         4.76 |            5.02 |            4.92 |  4.9  |     155 | 17.71 %      |\n",
        "|  9 | group D          | college                              |         5.11 |            5.25 |            5.25 |  5.2  |      70 | 8.0 %        |\n",
        "| 10 |           | postgraduate                         |         5.22 |            5.54 |            5.73 |  5.5  |      20 | 2.29 %       |\n",
        "| 11 |           | school                               |         5.02 |            5.13 |            5.11 |  5.09 |     149 | 17.03 %      |\n",
        "| 12 | group E          | college                              |         5.54 |            5.45 |            5.45 |  5.48 |      52 | 5.94 %       |\n",
        "| 13 |          | postgraduate                         |         5.54 |            6.03 |            5.89 |  5.82 |       6 | 0.69 %       |\n",
        "| 14 |          | school                               |         5.4  |            5.31 |            5.16 |  5.29 |      63 | 7.2 %        |"
      ]
    },
    {
      "cell_type": "markdown",
      "metadata": {
        "id": "AStUBdZ1wuqz"
      },
      "source": [
        "## Visualizaciones [0.5 Puntos]\n",
        "\n",
        "Ahora, implemente un gráfico de caja en donde se muestre el GPA con respecto al nivel educacional y que la variable de color sea la etnicidad y luego comente."
      ]
    },
    {
      "cell_type": "code",
      "metadata": {
        "id": "4ZaLbQ8Wwuq0"
      },
      "source": [
        "def plot_box_etnia(df):\n",
        "  \n",
        "\n",
        "plot_box_etnia(df_grades)"
      ],
      "execution_count": null,
      "outputs": []
    },
    {
      "cell_type": "code",
      "metadata": {
        "colab": {
          "base_uri": "https://localhost:8080/",
          "height": 541
        },
        "id": "DTVxJwd6RLeL",
        "outputId": "ada03cac-25c7-4e44-e6fb-595d879b27de"
      },
      "source": [
        "fig = px.box(df_grades, x=\"simple parental level of education\", y=\"GPA\")\n",
        "fig.show()"
      ],
      "execution_count": 176,
      "outputs": [
        {
          "output_type": "display_data",
          "data": {
            "text/html": [
              "<html>\n",
              "<head><meta charset=\"utf-8\" /></head>\n",
              "<body>\n",
              "    <div>\n",
              "            <script src=\"https://cdnjs.cloudflare.com/ajax/libs/mathjax/2.7.5/MathJax.js?config=TeX-AMS-MML_SVG\"></script><script type=\"text/javascript\">if (window.MathJax) {MathJax.Hub.Config({SVG: {font: \"STIX-Web\"}});}</script>\n",
              "                <script type=\"text/javascript\">window.PlotlyConfig = {MathJaxConfig: 'local'};</script>\n",
              "        <script src=\"https://cdn.plot.ly/plotly-latest.min.js\"></script>    \n",
              "            <div id=\"52d6ce4e-2130-4956-97e6-1c67d5a64568\" class=\"plotly-graph-div\" style=\"height:525px; width:100%;\"></div>\n",
              "            <script type=\"text/javascript\">\n",
              "                \n",
              "                    window.PLOTLYENV=window.PLOTLYENV || {};\n",
              "                    \n",
              "                if (document.getElementById(\"52d6ce4e-2130-4956-97e6-1c67d5a64568\")) {\n",
              "                    Plotly.newPlot(\n",
              "                        '52d6ce4e-2130-4956-97e6-1c67d5a64568',\n",
              "                        [{\"alignmentgroup\": \"True\", \"hoverlabel\": {\"namelength\": 0}, \"hovertemplate\": \"race/ethnicity=%{x}<br>GPA=%{y}\", \"legendgroup\": \"\", \"marker\": {\"color\": \"#636efa\"}, \"name\": \"\", \"notched\": false, \"offsetgroup\": \"\", \"orientation\": \"v\", \"showlegend\": false, \"type\": \"box\", \"x\": [\"group B\", \"group A\", \"group C\", \"group E\", \"group B\", \"group D\", \"group D\", \"group A\", \"group A\", \"group E\", \"group D\", \"group B\", \"group C\", \"group D\", \"group D\", \"group B\", \"group C\", \"group D\", \"group D\", \"group C\", \"group D\", \"group D\", \"group B\", \"group B\", \"group C\", \"group A\", \"group B\", \"group D\", \"group E\", \"group E\", \"group E\", \"group D\", \"group E\", \"group C\", \"group A\", \"group C\", \"group D\", \"group B\", \"group B\", \"group B\", \"group B\", \"group B\", \"group D\", \"group A\", \"group E\", \"group C\", \"group C\", \"group C\", \"group D\", \"group D\", \"group B\", \"group C\", \"group C\", \"group A\", \"group E\", \"group E\", \"group C\", \"group C\", \"group B\", \"group B\", \"group B\", \"group C\", \"group C\", \"group E\", \"group B\", \"group C\", \"group C\", \"group C\", \"group B\", \"group E\", \"group E\", \"group C\", \"group B\", \"group C\", \"group D\", \"group C\", \"group D\", \"group B\", \"group D\", \"group C\", \"group D\", \"group B\", \"group D\", \"group E\", \"group B\", \"group E\", \"group C\", \"group C\", \"group C\", \"group A\", \"group E\", \"group C\", \"group E\", \"group C\", \"group E\", \"group B\", \"group D\", \"group E\", \"group B\", \"group A\", \"group A\", \"group B\", \"group E\", \"group A\", \"group D\", \"group E\", \"group D\", \"group A\", \"group E\", \"group D\", \"group C\", \"group D\", \"group B\", \"group C\", \"group D\", \"group E\", \"group B\", \"group C\", \"group C\", \"group D\", \"group D\", \"group D\", \"group A\", \"group C\", \"group E\", \"group E\", \"group A\", \"group D\", \"group E\", \"group B\", \"group E\", \"group C\", \"group B\", \"group D\", \"group D\", \"group E\", \"group A\", \"group C\", \"group C\", \"group E\", \"group D\", \"group C\", \"group C\", \"group D\", \"group C\", \"group B\", \"group C\", \"group D\", \"group E\", \"group D\", \"group E\", \"group C\", \"group B\", \"group D\", \"group D\", \"group D\", \"group C\", \"group A\", \"group E\", \"group D\", \"group D\", \"group E\", \"group C\", \"group A\", \"group C\", \"group D\", \"group B\", \"group C\", \"group E\", \"group E\", \"group C\", \"group D\", \"group D\", \"group C\", \"group D\", \"group C\", \"group D\", \"group C\", \"group D\", \"group D\", \"group C\", \"group C\", \"group D\", \"group D\", \"group C\", \"group D\", \"group C\", \"group B\", \"group D\", \"group B\", \"group B\", \"group A\", \"group C\", \"group D\", \"group E\", \"group D\", \"group B\", \"group C\", \"group C\", \"group D\", \"group B\", \"group D\", \"group B\", \"group D\", \"group B\", \"group C\", \"group D\", \"group C\", \"group D\", \"group B\", \"group E\", \"group D\", \"group C\", \"group B\", \"group A\", \"group C\", \"group C\", \"group D\", \"group C\", \"group B\", \"group E\", \"group B\", \"group C\", \"group D\", \"group C\", \"group B\", \"group A\", \"group C\", \"group C\", \"group A\", \"group B\", \"group C\", \"group D\", \"group B\", \"group B\", \"group B\", \"group D\", \"group D\", \"group B\", \"group D\", \"group D\", \"group C\", \"group C\", \"group B\", \"group B\", \"group D\", \"group E\", \"group A\", \"group D\", \"group C\", \"group C\", \"group E\", \"group C\", \"group E\", \"group B\", \"group A\", \"group D\", \"group C\", \"group C\", \"group D\", \"group C\", \"group D\", \"group D\", \"group C\", \"group C\", \"group C\", \"group C\", \"group D\", \"group D\", \"group D\", \"group E\", \"group C\", \"group B\", \"group D\", \"group D\", \"group D\", \"group C\", \"group C\", \"group D\", \"group D\", \"group D\", \"group E\", \"group E\", \"group C\", \"group E\", \"group D\", \"group D\", \"group D\", \"group C\", \"group E\", \"group B\", \"group C\", \"group C\", \"group E\", \"group C\", \"group D\", \"group D\", \"group D\", \"group D\", \"group C\", \"group C\", \"group D\", \"group C\", \"group C\", \"group B\", \"group C\", \"group A\", \"group D\", \"group D\", \"group D\", \"group C\", \"group A\", \"group E\", \"group E\", \"group D\", \"group E\", \"group C\", \"group E\", \"group A\", \"group A\", \"group C\", \"group A\", \"group C\", \"group E\", \"group C\", \"group C\", \"group A\", \"group C\", \"group C\", \"group A\", \"group C\", \"group C\", \"group C\", \"group C\", \"group D\", \"group D\", \"group E\", \"group C\", \"group C\", \"group D\", \"group C\", \"group D\", \"group C\", \"group D\", \"group E\", \"group C\", \"group C\", \"group D\", \"group A\", \"group E\", \"group C\", \"group D\", \"group D\", \"group C\", \"group B\", \"group E\", \"group B\", \"group C\", \"group E\", \"group B\", \"group E\", \"group A\", \"group B\", \"group C\", \"group E\", \"group A\", \"group D\", \"group B\", \"group B\", \"group C\", \"group E\", \"group B\", \"group C\", \"group B\", \"group D\", \"group C\", \"group C\", \"group D\", \"group C\", \"group A\", \"group A\", \"group E\", \"group C\", \"group D\", \"group C\", \"group E\", \"group D\", \"group D\", \"group B\", \"group B\", \"group C\", \"group C\", \"group D\", \"group C\", \"group C\", \"group C\", \"group B\", \"group B\", \"group A\", \"group C\", \"group D\", \"group D\", \"group D\", \"group A\", \"group B\", \"group C\", \"group E\", \"group C\", \"group C\", \"group D\", \"group D\", \"group A\", \"group C\", \"group D\", \"group D\", \"group E\", \"group E\", \"group B\", \"group B\", \"group D\", \"group C\", \"group D\", \"group D\", \"group C\", \"group D\", \"group B\", \"group B\", \"group C\", \"group C\", \"group D\", \"group C\", \"group E\", \"group B\", \"group E\", \"group C\", \"group E\", \"group B\", \"group B\", \"group D\", \"group A\", \"group D\", \"group D\", \"group E\", \"group C\", \"group A\", \"group C\", \"group C\", \"group D\", \"group D\", \"group C\", \"group C\", \"group B\", \"group B\", \"group C\", \"group B\", \"group B\", \"group C\", \"group D\", \"group E\", \"group D\", \"group B\", \"group A\", \"group D\", \"group B\", \"group A\", \"group E\", \"group B\", \"group C\", \"group E\", \"group D\", \"group D\", \"group D\", \"group C\", \"group C\", \"group D\", \"group B\", \"group D\", \"group D\", \"group B\", \"group B\", \"group D\", \"group A\", \"group C\", \"group C\", \"group D\", \"group B\", \"group A\", \"group E\", \"group D\", \"group B\", \"group C\", \"group E\", \"group E\", \"group B\", \"group B\", \"group C\", \"group E\", \"group D\", \"group C\", \"group D\", \"group A\", \"group C\", \"group B\", \"group D\", \"group D\", \"group B\", \"group C\", \"group C\", \"group D\", \"group C\", \"group E\", \"group D\", \"group B\", \"group D\", \"group A\", \"group B\", \"group B\", \"group D\", \"group B\", \"group D\", \"group A\", \"group C\", \"group C\", \"group B\", \"group A\", \"group A\", \"group A\", \"group E\", \"group E\", \"group E\", \"group D\", \"group D\", \"group E\", \"group B\", \"group C\", \"group B\", \"group C\", \"group C\", \"group C\", \"group D\", \"group B\", \"group D\", \"group E\", \"group C\", \"group D\", \"group B\", \"group B\", \"group D\", \"group D\", \"group C\", \"group B\", \"group C\", \"group D\", \"group C\", \"group B\", \"group D\", \"group E\", \"group C\", \"group D\", \"group E\", \"group E\", \"group B\", \"group C\", \"group D\", \"group C\", \"group D\", \"group D\", \"group A\", \"group B\", \"group D\", \"group C\", \"group B\", \"group E\", \"group E\", \"group B\", \"group B\", \"group C\", \"group C\", \"group C\", \"group C\", \"group D\", \"group B\", \"group E\", \"group E\", \"group D\", \"group C\", \"group E\", \"group C\", \"group D\", \"group A\", \"group D\", \"group E\", \"group E\", \"group A\", \"group D\", \"group A\", \"group A\", \"group C\", \"group C\", \"group D\", \"group B\", \"group D\", \"group A\", \"group B\", \"group C\", \"group C\", \"group C\", \"group C\", \"group C\", \"group B\", \"group A\", \"group D\", \"group C\", \"group B\", \"group B\", \"group C\", \"group B\", \"group E\", \"group A\", \"group C\", \"group E\", \"group E\", \"group C\", \"group D\", \"group D\", \"group A\", \"group A\", \"group D\", \"group B\", \"group C\", \"group D\", \"group D\", \"group B\", \"group D\", \"group B\", \"group B\", \"group D\", \"group E\", \"group C\", \"group C\", \"group C\", \"group B\", \"group D\", \"group B\", \"group C\", \"group C\", \"group C\", \"group B\", \"group A\", \"group B\", \"group D\", \"group D\", \"group D\", \"group C\", \"group D\", \"group B\", \"group D\", \"group D\", \"group B\", \"group E\", \"group C\", \"group B\", \"group E\", \"group A\", \"group B\", \"group C\", \"group D\", \"group D\", \"group C\", \"group B\", \"group D\", \"group C\", \"group E\", \"group C\", \"group B\", \"group C\", \"group C\", \"group D\", \"group C\", \"group D\", \"group C\", \"group B\", \"group C\", \"group E\", \"group D\", \"group C\", \"group A\", \"group B\", \"group A\", \"group C\", \"group E\", \"group B\", \"group C\", \"group B\", \"group D\", \"group C\", \"group B\", \"group D\", \"group A\", \"group E\", \"group C\", \"group A\", \"group D\", \"group C\", \"group E\", \"group D\", \"group E\", \"group D\", \"group B\", \"group B\", \"group C\", \"group D\", \"group C\", \"group C\", \"group A\", \"group C\", \"group C\", \"group B\", \"group B\", \"group C\", \"group A\", \"group C\", \"group C\", \"group B\", \"group D\", \"group B\", \"group B\", \"group D\", \"group C\", \"group B\", \"group D\", \"group D\", \"group E\", \"group D\", \"group D\", \"group C\", \"group C\", \"group E\", \"group D\", \"group B\", \"group B\", \"group C\", \"group D\", \"group B\", \"group C\", \"group E\", \"group B\", \"group E\", \"group A\", \"group C\", \"group C\", \"group B\", \"group D\", \"group C\", \"group D\", \"group A\", \"group C\", \"group C\", \"group D\", \"group B\", \"group D\", \"group C\", \"group C\", \"group B\", \"group C\", \"group C\", \"group C\", \"group D\", \"group C\", \"group E\", \"group C\", \"group D\", \"group C\", \"group B\", \"group D\", \"group B\", \"group E\", \"group A\", \"group C\", \"group A\", \"group D\", \"group B\", \"group C\", \"group C\", \"group E\", \"group C\", \"group B\", \"group D\", \"group B\", \"group A\", \"group C\", \"group C\", \"group D\", \"group B\", \"group E\", \"group D\", \"group C\", \"group C\", \"group E\", \"group C\", \"group D\", \"group D\", \"group E\", \"group B\", \"group D\", \"group D\", \"group C\", \"group B\", \"group B\", \"group C\", \"group A\", \"group D\", \"group D\", \"group B\", \"group D\", \"group C\", \"group C\", \"group E\", \"group C\", \"group D\", \"group B\", \"group C\", \"group C\", \"group C\", \"group D\", \"group D\", \"group C\", \"group E\", \"group C\", \"group C\", \"group B\", \"group D\", \"group D\", \"group D\", \"group C\", \"group D\", \"group D\", \"group C\", \"group E\", \"group C\", \"group A\", \"group E\", \"group E\", \"group D\", \"group C\", \"group C\", \"group C\", \"group B\", \"group E\", \"group E\", \"group D\", \"group D\", \"group C\", \"group A\", \"group D\", \"group D\", \"group B\", \"group D\", \"group C\", \"group C\", \"group D\", \"group D\", \"group C\", \"group D\", \"group E\", \"group B\", \"group C\", \"group C\", \"group C\", \"group C\", \"group D\", \"group B\", \"group C\", \"group B\", \"group A\"], \"x0\": \" \", \"xaxis\": \"x\", \"y\": [3.58, 5.78, 5.04, 5.64, 6.34, 5.02, 5.14, 3.46, 4.7, 5.76, 5.5, 4.96, 4.7, 5.4, 4.62, 5.2, 3.68, 5.76, 4.68, 5.1, 5.64, 6.86, 5.38, 4.24, 5.94, 5.02, 5.84, 4.9, 5.54, 6.14, 5.96, 5.34, 5.1, 4.44, 4.84, 4.68, 4.06, 4.6, 4.4, 2.84, 5.66, 4.92, 4.68, 3.96, 6.14, 2.8, 5.0, 5.16, 4.88, 4.52, 5.62, 5.14, 4.84, 4.36, 6.24, 5.42, 6.32, 6.22, 4.64, 4.16, 3.76, 4.34, 4.28, 6.34, 5.9, 4.88, 4.9, 6.56, 6.14, 5.1, 6.2, 6.62, 5.54, 6.36, 4.74, 5.12, 4.02, 5.88, 6.06, 3.84, 5.44, 5.14, 5.46, 5.36, 4.78, 6.32, 4.86, 5.22, 4.52, 4.96, 5.1, 4.1, 5.22, 4.7, 5.92, 4.36, 6.24, 6.86, 5.52, 3.78, 4.84, 5.84, 5.52, 4.98, 5.52, 4.06, 5.16, 4.26, 6.0, 4.92, 5.46, 5.46, 3.78, 6.42, 4.94, 4.88, 5.58, 4.78, 5.32, 4.04, 4.74, 5.44, 5.18, 5.5, 5.2, 5.84, 4.8, 4.36, 4.74, 3.54, 4.52, 4.38, 2.78, 5.38, 5.5, 4.36, 4.28, 5.38, 4.36, 4.1, 3.86, 6.12, 5.32, 5.98, 6.54, 6.44, 6.24, 4.58, 3.64, 4.16, 4.5, 4.94, 4.76, 5.32, 4.34, 5.98, 4.32, 4.24, 4.98, 5.4, 3.78, 6.64, 5.04, 4.64, 4.58, 5.5, 3.92, 3.8, 5.14, 5.4, 5.5, 5.14, 5.12, 6.04, 5.3, 3.96, 5.4, 4.98, 6.02, 5.14, 4.38, 4.28, 4.5, 4.28, 4.6, 5.74, 5.46, 5.72, 6.94, 4.5, 4.84, 4.68, 5.26, 6.3, 5.56, 5.96, 6.14, 4.14, 5.94, 4.0, 4.72, 5.94, 5.64, 4.44, 3.88, 5.32, 5.6, 5.04, 6.18, 5.64, 5.82, 3.32, 2.88, 3.9, 4.32, 6.02, 5.58, 5.56, 5.08, 4.84, 5.84, 4.92, 4.08, 4.58, 5.3, 4.92, 4.0, 6.26, 5.68, 5.08, 5.2, 5.12, 4.3, 3.72, 4.52, 4.06, 3.34, 2.9, 5.46, 5.36, 4.36, 6.5, 6.34, 4.28, 4.16, 5.12, 6.22, 2.4, 4.9, 4.48, 3.68, 6.22, 4.22, 7.0, 5.56, 4.02, 6.08, 5.64, 5.98, 4.78, 4.16, 5.34, 5.54, 5.38, 4.88, 5.76, 5.7, 5.48, 5.14, 4.92, 4.88, 3.26, 4.72, 4.64, 4.92, 6.32, 5.14, 5.4, 5.14, 5.18, 5.82, 5.0, 5.52, 5.48, 5.38, 5.6, 6.08, 5.28, 5.42, 4.2, 5.1, 6.4, 5.68, 6.42, 5.32, 6.38, 5.2, 4.88, 5.82, 5.46, 5.54, 4.36, 4.02, 4.1, 6.8, 5.18, 5.38, 5.56, 4.74, 5.06, 5.64, 4.1, 4.82, 6.98, 6.14, 5.88, 5.66, 5.56, 4.68, 5.38, 4.6, 6.64, 4.76, 5.72, 5.1, 4.1, 4.56, 6.3, 5.54, 4.12, 5.38, 5.38, 4.7, 4.44, 4.94, 6.48, 6.86, 6.16, 3.78, 5.74, 5.14, 5.56, 3.78, 4.34, 5.34, 4.54, 5.2, 4.26, 3.94, 3.6, 4.98, 4.68, 5.02, 5.3, 3.44, 5.82, 4.78, 5.06, 5.5, 5.96, 5.7, 4.1, 4.06, 4.04, 6.06, 5.4, 5.28, 5.12, 4.14, 5.94, 2.56, 5.78, 4.86, 5.88, 5.76, 4.26, 5.84, 5.84, 6.04, 6.0, 6.16, 5.62, 5.28, 5.02, 4.32, 4.04, 4.5, 4.1, 4.48, 5.68, 6.2, 5.1, 4.16, 5.62, 6.12, 4.42, 5.58, 4.72, 4.08, 4.46, 5.22, 5.46, 6.16, 6.5, 4.86, 4.28, 5.6, 5.4, 5.28, 4.96, 5.28, 5.52, 5.16, 4.3, 5.08, 5.72, 6.32, 5.16, 3.94, 5.26, 5.56, 3.74, 5.14, 3.9, 6.12, 4.82, 5.5, 4.74, 5.22, 4.82, 5.64, 5.68, 4.9, 5.0, 5.1, 7.0, 2.1, 4.82, 4.38, 4.58, 6.1, 6.0, 5.26, 5.3, 5.08, 3.86, 5.0, 4.96, 4.18, 4.34, 6.6, 6.42, 4.72, 5.36, 3.92, 4.86, 5.74, 3.9, 6.76, 5.12, 4.6, 3.68, 4.78, 5.06, 3.88, 4.02, 5.54, 3.8, 4.86, 5.82, 5.48, 5.1, 4.2, 6.64, 4.86, 3.46, 5.26, 5.76, 5.8, 4.52, 5.9, 5.02, 5.1, 5.2, 5.58, 4.14, 3.8, 6.24, 4.52, 5.38, 5.6, 6.0, 4.94, 5.24, 6.04, 6.1, 4.62, 5.28, 4.28, 3.38, 4.76, 5.16, 6.46, 4.26, 4.92, 4.9, 5.3, 5.94, 5.26, 4.08, 5.26, 3.7, 5.42, 5.32, 3.36, 5.94, 6.56, 4.18, 4.08, 3.94, 5.18, 4.02, 4.32, 3.9, 4.54, 3.24, 6.34, 5.48, 5.54, 5.08, 6.78, 3.4, 5.2, 5.98, 5.76, 6.14, 4.42, 3.76, 4.22, 5.84, 5.04, 6.3, 4.66, 5.7, 4.22, 4.7, 4.62, 5.7, 6.74, 6.18, 5.48, 5.22, 5.7, 5.26, 5.94, 4.24, 5.12, 4.96, 5.68, 6.3, 3.66, 4.74, 4.44, 5.38, 5.0, 3.8, 6.28, 4.14, 4.9, 4.46, 4.66, 5.16, 6.18, 3.76, 4.24, 5.0, 6.32, 4.94, 5.18, 4.54, 6.6, 4.1, 5.28, 5.36, 5.58, 4.38, 4.42, 6.16, 5.5, 5.66, 6.84, 5.34, 6.64, 6.36, 5.16, 5.72, 4.02, 4.32, 5.8, 4.62, 5.64, 5.26, 5.62, 4.46, 4.54, 6.48, 5.96, 5.96, 4.7, 5.32, 3.68, 5.28, 5.34, 4.12, 4.6, 2.94, 4.06, 5.08, 3.48, 4.54, 6.78, 5.78, 3.44, 5.02, 4.8, 5.86, 3.6, 4.88, 5.26, 3.38, 5.44, 5.7, 3.98, 5.3, 4.36, 4.5, 5.36, 6.52, 4.08, 5.54, 6.38, 3.28, 5.2, 5.76, 4.08, 4.72, 4.36, 4.42, 4.5, 4.92, 5.32, 6.04, 5.38, 4.94, 5.46, 4.68, 3.84, 3.92, 4.66, 5.46, 6.22, 4.88, 5.52, 5.68, 5.98, 4.46, 5.78, 6.5, 4.82, 5.98, 5.12, 5.42, 5.8, 5.12, 5.78, 4.4, 4.4, 4.22, 5.44, 3.3, 5.2, 2.78, 5.74, 4.8, 4.64, 6.82, 3.82, 5.98, 5.08, 4.88, 5.74, 6.0, 4.5, 4.24, 4.54, 5.44, 4.28, 6.1, 5.48, 4.44, 5.16, 5.24, 4.64, 5.58, 3.08, 4.16, 5.08, 5.28, 5.4, 4.16, 4.0, 4.84, 5.64, 4.52, 5.7, 5.12, 4.78, 6.3, 4.84, 5.64, 4.38, 5.36, 5.12, 2.38, 5.98, 4.74, 5.08, 4.52, 4.56, 5.24, 6.22, 5.94, 5.22, 6.5, 5.36, 4.84, 5.98, 5.9, 5.72, 6.36, 6.36, 4.22, 4.9, 4.86, 6.82, 5.74, 4.56, 4.98, 4.56, 5.54, 5.94, 5.62, 4.96, 3.64, 3.88, 4.34, 4.86, 6.04, 5.76, 5.06, 4.8, 5.24, 4.7, 4.72, 5.08, 5.82, 6.92, 4.96, 5.62, 5.34, 4.0, 5.74, 3.6, 5.4, 5.3, 5.06, 4.96, 4.9, 5.2, 4.64, 6.2, 3.94, 4.2, 5.64, 6.28, 4.46, 2.56, 5.72, 4.94, 5.02, 4.6, 5.08, 6.04, 4.02, 4.44, 6.94, 5.0, 5.02, 6.18, 5.2, 4.12, 5.56, 5.94, 5.26, 4.84, 4.44, 6.1, 4.88, 6.5, 5.68, 4.66, 5.92, 5.46, 5.68, 5.08, 3.72, 5.7, 4.86, 4.6, 5.12, 6.56, 5.28, 5.32, 4.66, 3.88, 4.2, 4.52, 5.44, 4.86, 5.66, 5.88, 5.06, 4.46, 5.16, 1.54, 4.88, 5.72, 5.06, 7.0, 4.44, 3.96, 4.12, 5.26, 6.04, 4.64, 5.94, 4.82, 5.36, 4.62, 4.34, 6.26, 4.1, 3.92, 4.54, 2.86, 5.78, 5.5, 4.92, 5.82, 5.22, 6.04, 6.92, 5.22, 5.56, 5.2, 5.16, 4.96, 5.36, 3.6, 2.76, 5.3, 3.06, 5.42, 4.54, 5.48], \"y0\": \" \", \"yaxis\": \"y\"}],\n",
              "                        {\"boxmode\": \"group\", \"legend\": {\"tracegroupgap\": 0}, \"margin\": {\"t\": 60}, \"template\": {\"data\": {\"bar\": [{\"error_x\": {\"color\": \"#2a3f5f\"}, \"error_y\": {\"color\": \"#2a3f5f\"}, \"marker\": {\"line\": {\"color\": \"#E5ECF6\", \"width\": 0.5}}, \"type\": \"bar\"}], \"barpolar\": [{\"marker\": {\"line\": {\"color\": \"#E5ECF6\", \"width\": 0.5}}, \"type\": \"barpolar\"}], \"carpet\": [{\"aaxis\": {\"endlinecolor\": \"#2a3f5f\", \"gridcolor\": \"white\", \"linecolor\": \"white\", \"minorgridcolor\": \"white\", \"startlinecolor\": \"#2a3f5f\"}, \"baxis\": {\"endlinecolor\": \"#2a3f5f\", \"gridcolor\": \"white\", \"linecolor\": \"white\", \"minorgridcolor\": \"white\", \"startlinecolor\": \"#2a3f5f\"}, \"type\": \"carpet\"}], \"choropleth\": [{\"colorbar\": {\"outlinewidth\": 0, \"ticks\": \"\"}, \"type\": \"choropleth\"}], \"contour\": [{\"colorbar\": {\"outlinewidth\": 0, \"ticks\": \"\"}, \"colorscale\": [[0.0, \"#0d0887\"], [0.1111111111111111, \"#46039f\"], [0.2222222222222222, \"#7201a8\"], [0.3333333333333333, \"#9c179e\"], [0.4444444444444444, \"#bd3786\"], [0.5555555555555556, \"#d8576b\"], [0.6666666666666666, \"#ed7953\"], [0.7777777777777778, \"#fb9f3a\"], [0.8888888888888888, \"#fdca26\"], [1.0, \"#f0f921\"]], \"type\": \"contour\"}], \"contourcarpet\": [{\"colorbar\": {\"outlinewidth\": 0, \"ticks\": \"\"}, \"type\": \"contourcarpet\"}], \"heatmap\": [{\"colorbar\": {\"outlinewidth\": 0, \"ticks\": \"\"}, \"colorscale\": [[0.0, \"#0d0887\"], [0.1111111111111111, \"#46039f\"], [0.2222222222222222, \"#7201a8\"], [0.3333333333333333, \"#9c179e\"], [0.4444444444444444, \"#bd3786\"], [0.5555555555555556, \"#d8576b\"], [0.6666666666666666, \"#ed7953\"], [0.7777777777777778, \"#fb9f3a\"], [0.8888888888888888, \"#fdca26\"], [1.0, \"#f0f921\"]], \"type\": \"heatmap\"}], \"heatmapgl\": [{\"colorbar\": {\"outlinewidth\": 0, \"ticks\": \"\"}, \"colorscale\": [[0.0, \"#0d0887\"], [0.1111111111111111, \"#46039f\"], [0.2222222222222222, \"#7201a8\"], [0.3333333333333333, \"#9c179e\"], [0.4444444444444444, \"#bd3786\"], [0.5555555555555556, \"#d8576b\"], [0.6666666666666666, \"#ed7953\"], [0.7777777777777778, \"#fb9f3a\"], [0.8888888888888888, \"#fdca26\"], [1.0, \"#f0f921\"]], \"type\": \"heatmapgl\"}], \"histogram\": [{\"marker\": {\"colorbar\": {\"outlinewidth\": 0, \"ticks\": \"\"}}, \"type\": \"histogram\"}], \"histogram2d\": [{\"colorbar\": {\"outlinewidth\": 0, \"ticks\": \"\"}, \"colorscale\": [[0.0, \"#0d0887\"], [0.1111111111111111, \"#46039f\"], [0.2222222222222222, \"#7201a8\"], [0.3333333333333333, \"#9c179e\"], [0.4444444444444444, \"#bd3786\"], [0.5555555555555556, \"#d8576b\"], [0.6666666666666666, \"#ed7953\"], [0.7777777777777778, \"#fb9f3a\"], [0.8888888888888888, \"#fdca26\"], [1.0, \"#f0f921\"]], \"type\": \"histogram2d\"}], \"histogram2dcontour\": [{\"colorbar\": {\"outlinewidth\": 0, \"ticks\": \"\"}, \"colorscale\": [[0.0, \"#0d0887\"], [0.1111111111111111, \"#46039f\"], [0.2222222222222222, \"#7201a8\"], [0.3333333333333333, \"#9c179e\"], [0.4444444444444444, \"#bd3786\"], [0.5555555555555556, \"#d8576b\"], [0.6666666666666666, \"#ed7953\"], [0.7777777777777778, \"#fb9f3a\"], [0.8888888888888888, \"#fdca26\"], [1.0, \"#f0f921\"]], \"type\": \"histogram2dcontour\"}], \"mesh3d\": [{\"colorbar\": {\"outlinewidth\": 0, \"ticks\": \"\"}, \"type\": \"mesh3d\"}], \"parcoords\": [{\"line\": {\"colorbar\": {\"outlinewidth\": 0, \"ticks\": \"\"}}, \"type\": \"parcoords\"}], \"pie\": [{\"automargin\": true, \"type\": \"pie\"}], \"scatter\": [{\"marker\": {\"colorbar\": {\"outlinewidth\": 0, \"ticks\": \"\"}}, \"type\": \"scatter\"}], \"scatter3d\": [{\"line\": {\"colorbar\": {\"outlinewidth\": 0, \"ticks\": \"\"}}, \"marker\": {\"colorbar\": {\"outlinewidth\": 0, \"ticks\": \"\"}}, \"type\": \"scatter3d\"}], \"scattercarpet\": [{\"marker\": {\"colorbar\": {\"outlinewidth\": 0, \"ticks\": \"\"}}, \"type\": \"scattercarpet\"}], \"scattergeo\": [{\"marker\": {\"colorbar\": {\"outlinewidth\": 0, \"ticks\": \"\"}}, \"type\": \"scattergeo\"}], \"scattergl\": [{\"marker\": {\"colorbar\": {\"outlinewidth\": 0, \"ticks\": \"\"}}, \"type\": \"scattergl\"}], \"scattermapbox\": [{\"marker\": {\"colorbar\": {\"outlinewidth\": 0, \"ticks\": \"\"}}, \"type\": \"scattermapbox\"}], \"scatterpolar\": [{\"marker\": {\"colorbar\": {\"outlinewidth\": 0, \"ticks\": \"\"}}, \"type\": \"scatterpolar\"}], \"scatterpolargl\": [{\"marker\": {\"colorbar\": {\"outlinewidth\": 0, \"ticks\": \"\"}}, \"type\": \"scatterpolargl\"}], \"scatterternary\": [{\"marker\": {\"colorbar\": {\"outlinewidth\": 0, \"ticks\": \"\"}}, \"type\": \"scatterternary\"}], \"surface\": [{\"colorbar\": {\"outlinewidth\": 0, \"ticks\": \"\"}, \"colorscale\": [[0.0, \"#0d0887\"], [0.1111111111111111, \"#46039f\"], [0.2222222222222222, \"#7201a8\"], [0.3333333333333333, \"#9c179e\"], [0.4444444444444444, \"#bd3786\"], [0.5555555555555556, \"#d8576b\"], [0.6666666666666666, \"#ed7953\"], [0.7777777777777778, \"#fb9f3a\"], [0.8888888888888888, \"#fdca26\"], [1.0, \"#f0f921\"]], \"type\": \"surface\"}], \"table\": [{\"cells\": {\"fill\": {\"color\": \"#EBF0F8\"}, \"line\": {\"color\": \"white\"}}, \"header\": {\"fill\": {\"color\": \"#C8D4E3\"}, \"line\": {\"color\": \"white\"}}, \"type\": \"table\"}]}, \"layout\": {\"annotationdefaults\": {\"arrowcolor\": \"#2a3f5f\", \"arrowhead\": 0, \"arrowwidth\": 1}, \"coloraxis\": {\"colorbar\": {\"outlinewidth\": 0, \"ticks\": \"\"}}, \"colorscale\": {\"diverging\": [[0, \"#8e0152\"], [0.1, \"#c51b7d\"], [0.2, \"#de77ae\"], [0.3, \"#f1b6da\"], [0.4, \"#fde0ef\"], [0.5, \"#f7f7f7\"], [0.6, \"#e6f5d0\"], [0.7, \"#b8e186\"], [0.8, \"#7fbc41\"], [0.9, \"#4d9221\"], [1, \"#276419\"]], \"sequential\": [[0.0, \"#0d0887\"], [0.1111111111111111, \"#46039f\"], [0.2222222222222222, \"#7201a8\"], [0.3333333333333333, \"#9c179e\"], [0.4444444444444444, \"#bd3786\"], [0.5555555555555556, \"#d8576b\"], [0.6666666666666666, \"#ed7953\"], [0.7777777777777778, \"#fb9f3a\"], [0.8888888888888888, \"#fdca26\"], [1.0, \"#f0f921\"]], \"sequentialminus\": [[0.0, \"#0d0887\"], [0.1111111111111111, \"#46039f\"], [0.2222222222222222, \"#7201a8\"], [0.3333333333333333, \"#9c179e\"], [0.4444444444444444, \"#bd3786\"], [0.5555555555555556, \"#d8576b\"], [0.6666666666666666, \"#ed7953\"], [0.7777777777777778, \"#fb9f3a\"], [0.8888888888888888, \"#fdca26\"], [1.0, \"#f0f921\"]]}, \"colorway\": [\"#636efa\", \"#EF553B\", \"#00cc96\", \"#ab63fa\", \"#FFA15A\", \"#19d3f3\", \"#FF6692\", \"#B6E880\", \"#FF97FF\", \"#FECB52\"], \"font\": {\"color\": \"#2a3f5f\"}, \"geo\": {\"bgcolor\": \"white\", \"lakecolor\": \"white\", \"landcolor\": \"#E5ECF6\", \"showlakes\": true, \"showland\": true, \"subunitcolor\": \"white\"}, \"hoverlabel\": {\"align\": \"left\"}, \"hovermode\": \"closest\", \"mapbox\": {\"style\": \"light\"}, \"paper_bgcolor\": \"white\", \"plot_bgcolor\": \"#E5ECF6\", \"polar\": {\"angularaxis\": {\"gridcolor\": \"white\", \"linecolor\": \"white\", \"ticks\": \"\"}, \"bgcolor\": \"#E5ECF6\", \"radialaxis\": {\"gridcolor\": \"white\", \"linecolor\": \"white\", \"ticks\": \"\"}}, \"scene\": {\"xaxis\": {\"backgroundcolor\": \"#E5ECF6\", \"gridcolor\": \"white\", \"gridwidth\": 2, \"linecolor\": \"white\", \"showbackground\": true, \"ticks\": \"\", \"zerolinecolor\": \"white\"}, \"yaxis\": {\"backgroundcolor\": \"#E5ECF6\", \"gridcolor\": \"white\", \"gridwidth\": 2, \"linecolor\": \"white\", \"showbackground\": true, \"ticks\": \"\", \"zerolinecolor\": \"white\"}, \"zaxis\": {\"backgroundcolor\": \"#E5ECF6\", \"gridcolor\": \"white\", \"gridwidth\": 2, \"linecolor\": \"white\", \"showbackground\": true, \"ticks\": \"\", \"zerolinecolor\": \"white\"}}, \"shapedefaults\": {\"line\": {\"color\": \"#2a3f5f\"}}, \"ternary\": {\"aaxis\": {\"gridcolor\": \"white\", \"linecolor\": \"white\", \"ticks\": \"\"}, \"baxis\": {\"gridcolor\": \"white\", \"linecolor\": \"white\", \"ticks\": \"\"}, \"bgcolor\": \"#E5ECF6\", \"caxis\": {\"gridcolor\": \"white\", \"linecolor\": \"white\", \"ticks\": \"\"}}, \"title\": {\"x\": 0.05}, \"xaxis\": {\"automargin\": true, \"gridcolor\": \"white\", \"linecolor\": \"white\", \"ticks\": \"\", \"title\": {\"standoff\": 15}, \"zerolinecolor\": \"white\", \"zerolinewidth\": 2}, \"yaxis\": {\"automargin\": true, \"gridcolor\": \"white\", \"linecolor\": \"white\", \"ticks\": \"\", \"title\": {\"standoff\": 15}, \"zerolinecolor\": \"white\", \"zerolinewidth\": 2}}}, \"xaxis\": {\"anchor\": \"y\", \"domain\": [0.0, 1.0], \"title\": {\"text\": \"race/ethnicity\"}}, \"yaxis\": {\"anchor\": \"x\", \"domain\": [0.0, 1.0], \"title\": {\"text\": \"GPA\"}}},\n",
              "                        {\"responsive\": true}\n",
              "                    ).then(function(){\n",
              "                            \n",
              "var gd = document.getElementById('52d6ce4e-2130-4956-97e6-1c67d5a64568');\n",
              "var x = new MutationObserver(function (mutations, observer) {{\n",
              "        var display = window.getComputedStyle(gd).display;\n",
              "        if (!display || display === 'none') {{\n",
              "            console.log([gd, 'removed!']);\n",
              "            Plotly.purge(gd);\n",
              "            observer.disconnect();\n",
              "        }}\n",
              "}});\n",
              "\n",
              "// Listen for the removal of the full notebook cells\n",
              "var notebookContainer = gd.closest('#notebook-container');\n",
              "if (notebookContainer) {{\n",
              "    x.observe(notebookContainer, {childList: true});\n",
              "}}\n",
              "\n",
              "// Listen for the clearing of the current output cell\n",
              "var outputEl = gd.closest('.output');\n",
              "if (outputEl) {{\n",
              "    x.observe(outputEl, {childList: true});\n",
              "}}\n",
              "\n",
              "                        })\n",
              "                };\n",
              "                \n",
              "            </script>\n",
              "        </div>\n",
              "</body>\n",
              "</html>"
            ]
          },
          "metadata": {}
        }
      ]
    },
    {
      "cell_type": "markdown",
      "metadata": {
        "id": "loUzspGXijp1"
      },
      "source": [
        "> 1. ¿Hay alguna diferencia entre los grupos graficados tanto para el nivel educacional de los padres como también para la etnicidad?\n",
        "> 2. ¿Este gráfico permite hacer facilmente un análisis conjunto de estas dos variables de forma sencilla?"
      ]
    },
    {
      "cell_type": "markdown",
      "metadata": {
        "id": "jb9sjfJlwolM"
      },
      "source": [
        "**Justifique:**"
      ]
    },
    {
      "cell_type": "markdown",
      "metadata": {
        "id": "vDl7h7JbwrKh"
      },
      "source": [
        "```\n",
        "Escriba aqui su respuesta\n",
        "```"
      ]
    },
    {
      "cell_type": "markdown",
      "metadata": {
        "id": "PzF4GclNrwAt"
      },
      "source": [
        "# 1.3.5 Combinar Dataset [1 punto]"
      ]
    },
    {
      "cell_type": "markdown",
      "metadata": {
        "id": "8p4P1F9q06SP"
      },
      "source": [
        "Mientras le notificaba por videollamada los resultados de sus descubrimientos a Don Caguayo, un exaltado practicante del area de TI entra a la reunión y les informa que ha encontrado una nueva base de datos que cuenta con las notas de dos asignaturas (en escala chilena): historia y ciencias. \n",
        "Para más remate, antes de huir, el practicante les cuenta que este dataframe lamentablemente contiene nuevamente los alumnos de los registros corruptos que ud. y su equipo filtraron en el análisis anterior.\n",
        " \n",
        " \n",
        "El rector (evidentemente molesto por la situación) les ruega incluir estos datos (vaciados en el archivo other_grades.csv) al estudio original(`students_grades.csv`). \n",
        "\n",
        "\n",
        "Para esto, carge el archivo `other_grades.csv` y busque la forma de unir ambos DataFrames, de tal manera que las columnas de `history score` y `science score` se anexen al final del DataFrame original. **NO LIMPIE LOS DATOS**, si no que explore los distintos tipos de merge para encontrar el mas situable para su situación (y así evitar buscar duplicados).\n",
        "\n",
        "**To-Do**\n",
        "\n",
        "- [ ] Cargar el `other_grades.csv`\n",
        "- [ ] Unir `df_grades` con `other_grades.csv` usando outer join y explique el resultado.\n",
        "- [ ] Unir `df_grades` con `other_grades.csv` usando left join y explique el resultado.\n",
        "- [ ] Unir `df_grades` con `other_grades.csv` usando right join y explique el resultado.\n",
        "- [ ] Unir `df_grades` con `other_grades.csv` usando inner join y explique el resultado.\n",
        "- [ ] Defina cuál join es el que utilizará para generar el nuevo DataFrame.\n",
        "\n",
        "> **Hint**: Puede explicar los resultados del merge a través de la cantidad de filas resultantes y los valores que estas contienen."
      ]
    },
    {
      "cell_type": "code",
      "metadata": {
        "id": "WKBJJqLJ0DXN"
      },
      "source": [
        "..."
      ],
      "execution_count": null,
      "outputs": []
    },
    {
      "cell_type": "markdown",
      "metadata": {
        "id": "6LWXxvU5wuq3"
      },
      "source": [
        "> **Justificación:**\n"
      ]
    },
    {
      "cell_type": "markdown",
      "metadata": {
        "id": "OTj6N88Owuq4"
      },
      "source": [
        "```\n",
        "Escriba aquí su justificación\n",
        "```"
      ]
    },
    {
      "cell_type": "markdown",
      "metadata": {
        "id": "pj7LOu6GTH5Q"
      },
      "source": [
        "## 1.4 Más visualizaciones [Bonus - 0.5 puntos por cada Gráfico, máximo 1 punto]\n",
        "\n",
        "\n",
        "**Desde aquí parte el bonus para el lab.**\n",
        "\n",
        "\n",
        "<p align=\"center\">\n",
        "  <img src=\"https://media4.giphy.com/media/xT5LMWNOjGqJzUfyve/giphy.gif?cid=ecf05e47phkhvg6vadqvcoobvxwj9bzxxk38jjvkcc6eak6t&rid=giphy.gif&ct=g\">\n",
        "</p>\n",
        "\n",
        "\n"
      ]
    },
    {
      "cell_type": "markdown",
      "metadata": {
        "id": "4f1PIBgMDt5H"
      },
      "source": [
        "Genere dos visualizaciones extras que encuentre interesantes (y no triviales) con estos datos y explique sus resultados. Agrupe los atributos que estime convenientes.\n",
        "\n",
        "\n",
        "**To-Do:**\n",
        "- [ ] Generar dos nuevas visualizaciones con los datos y explicar que están representando.\n",
        "\n",
        "\n",
        "> **NOTA: No utilice historia ni ciencias, son notas generadas aleatoriamente.**"
      ]
    },
    {
      "cell_type": "markdown",
      "metadata": {
        "id": "Rg4ZMq8ezAH6"
      },
      "source": [
        "# Conclusión\n",
        "Eso ha sido todo para el lab de hoy, recuerden que el laboratorio tiene un plazo de entrega de una semana y que **los días de atraso no se pueden utilizar para entregas de lab** solo para tareas. Cualquier duda del laboratorio, no duden en contactarnos por mail o U-cursos.\n",
        "\n",
        "<p align=\"center\">\n",
        "  <img src=\"https://media1.tenor.com/images/2f7df460196625edc45b8380d158e5ee/tenor.gif?itemid=16669403\">\n",
        "</p>"
      ]
    },
    {
      "cell_type": "markdown",
      "metadata": {
        "id": "wCL1lACBzAH7"
      },
      "source": [
        "<br>\n",
        "<center>\n",
        "<img src=\"https://i.kym-cdn.com/photos/images/original/001/194/195/b18.png\" width=100 height=50 />\n",
        "</center>\n",
        "<br>"
      ]
    }
  ]
}