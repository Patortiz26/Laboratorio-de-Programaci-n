{
  "nbformat": 4,
  "nbformat_minor": 5,
  "metadata": {
    "colab": {
      "name": "Lab1",
      "provenance": [],
      "collapsed_sections": [],
      "include_colab_link": true
    },
    "kernelspec": {
      "display_name": "Python 3",
      "language": "python",
      "name": "python3"
    },
    "language_info": {
      "codemirror_mode": {
        "name": "ipython",
        "version": 3
      },
      "file_extension": ".py",
      "mimetype": "text/x-python",
      "name": "python",
      "nbconvert_exporter": "python",
      "pygments_lexer": "ipython3",
      "version": "3.8.5"
    }
  },
  "cells": [
    {
      "cell_type": "markdown",
      "metadata": {
        "id": "view-in-github",
        "colab_type": "text"
      },
      "source": [
        "<a href=\"https://colab.research.google.com/github/Patortiz26/Laboratorio-de-Programaci-n/blob/main/Lab1.ipynb\" target=\"_parent\"><img src=\"https://colab.research.google.com/assets/colab-badge.svg\" alt=\"Open In Colab\"/></a>"
      ]
    },
    {
      "cell_type": "markdown",
      "metadata": {
        "id": "cd7b1b55"
      },
      "source": [
        "<h1><center>Laboratorio 1: Primeros pasos 👣</center></h1>\n",
        "\n",
        "<center><strong>MDS7202: Laboratorio de Programación Científica para Ciencia de Datos - Primavera 2021</strong></center>"
      ],
      "id": "cd7b1b55"
    },
    {
      "cell_type": "markdown",
      "metadata": {
        "id": "Vp_vOHK7V97e"
      },
      "source": [
        "### Cuerpo Docente:\n",
        "\n",
        "- Profesor: Pablo Badilla\n",
        "- Auxiliar: Ignacio Meza D.\n",
        "- Ayudante: Constanza Peña S."
      ],
      "id": "Vp_vOHK7V97e"
    },
    {
      "cell_type": "markdown",
      "metadata": {
        "id": "4N_5AYgyWKyA"
      },
      "source": [
        "### Equipo: \n",
        "\n",
        "- Nombre de alumno 1: Patricio Ortiz\n"
      ],
      "id": "4N_5AYgyWKyA"
    },
    {
      "cell_type": "markdown",
      "metadata": {
        "id": "1rjlaJDEWxd9"
      },
      "source": [
        "### **Link de repositorio de GitHub:** `https://github.com/Patortiz26/Laboratorio-de-Programaci-n`"
      ],
      "id": "1rjlaJDEWxd9"
    },
    {
      "cell_type": "markdown",
      "metadata": {
        "id": "9el9ERaKWW3i"
      },
      "source": [
        "## Reglas:\n",
        "\n",
        "- Fecha de entrega: 1 semana desde la publicación, 3 días de atraso con 1 punto de descuento c/u. Pueden utilizar días bonus sin descuento.\n",
        "- **Grupos de 2 personas**.\n",
        "- **Ausentes** deberán realizar la actividad solos. \n",
        "- Cualquier duda fuera del horario de clases al foro. Mensajes al equipo docente serán respondidos por este medio.\n",
        "- Prohibidas las copias. \n",
        "- Pueden usar cualquer material del curso que estimen conveniente.\n"
      ],
      "id": "9el9ERaKWW3i"
    },
    {
      "cell_type": "markdown",
      "metadata": {
        "id": "4708b9b7"
      },
      "source": [
        "\n",
        "## Objetivos del lab: \n",
        "\n",
        "\n",
        "- Variables, Operadores y Expresiones.\n",
        "- Estructuras de Control (if/else).\n",
        "- Iteraciones.\n",
        "- Listas y Diccionarios.\n",
        "- Programación Funcional (Map, Filter y Reduce).\n",
        "- Programación Orientada a Objetos (Encapsulamiento, Polimorfismo y Herencia)"
      ],
      "id": "4708b9b7"
    },
    {
      "cell_type": "markdown",
      "metadata": {
        "id": "d58b089c"
      },
      "source": [
        "## Parte 1: 🍋 Frutas 🍓\n",
        "\n",
        "En esta primera parte se trabajará lo escencial visto hasta el momento más un poco de programación funcional a través de frutas:\n",
        "\n",
        "<div align='center'>\n",
        "<img src='https://upload.wikimedia.org/wikipedia/commons/a/a2/Berries_in_Berlin.jpg' width=600/>\n",
        "</div>"
      ],
      "id": "d58b089c"
    },
    {
      "cell_type": "markdown",
      "metadata": {
        "id": "5fdf6b19"
      },
      "source": [
        "Defina las siguientes frutas como diccionarios a partir de sus características (nombre, color, tipo y si posee o no pepas):\n",
        "\n",
        "| Nombre    | Tipo     | Color    | Pepas |\n",
        "|-----------|----------|----------|-------|\n",
        "| limon     | cítrica  | amarillo | True  |\n",
        "| naranja   | cítrica  | naranjo  | True  |\n",
        "| plátano   | tropical | amarillo | False |\n",
        "| piña      | tropical | amarillo | False |\n",
        "| frutilla  | bosque   | rojo     | True  |\n",
        "| frambuesa | bosque   | rojo     | True  |"
      ],
      "id": "5fdf6b19"
    },
    {
      "cell_type": "markdown",
      "metadata": {
        "id": "33aed47b"
      },
      "source": [
        "### Estructurar Datos [0.5 puntos]\n",
        "\n",
        "Agregue Piña, Frutilla y Frambuesa como diccionarios (siga los ejemplos de las frutas dadas) y luego cree un arreglo que contenga estas frutas.\n"
      ],
      "id": "33aed47b"
    },
    {
      "cell_type": "code",
      "metadata": {
        "id": "26d23e26"
      },
      "source": [
        "limon = {\n",
        "    \"nombre\": \"limón\", \n",
        "    \"tipo\": \"cítrica\", \n",
        "    \"color\": \"amarillo\", \n",
        "    \"pepas\": True\n",
        "    }\n",
        "\n",
        "naranja = {\"nombre\": \"naranja\", \n",
        "           \"tipo\": \"cítrica\", \n",
        "           \"color\": \"naranjo\", \n",
        "           \"pepas\": True\n",
        "          }\n",
        "\n",
        "platano = {\"nombre\": \"plátano\", \n",
        "           \"tipo\": \"tropical\", \n",
        "           \"color\": \"amarillo\", \n",
        "           \"pepas\": False\n",
        "          }\n",
        "\n",
        "\n",
        "# agregar las frutas que faltan aquí\n",
        "\n",
        "piña = {\n",
        "    \"nombre\": \"piña\", \n",
        "    \"tipo\": \"tropical\", \n",
        "    \"color\": \"amarillo\", \n",
        "    \"pepas\": False\n",
        "    }\n",
        "\n",
        "frutilla = {\"nombre\": \"frutilla\", \n",
        "           \"tipo\": \"bosque\", \n",
        "           \"color\": \"rojo\", \n",
        "           \"pepas\": True\n",
        "          }\n",
        "\n",
        "frambuesa = {\"nombre\": \"frambuesa\", \n",
        "           \"tipo\": \"bosque\", \n",
        "           \"color\": \"rojo\", \n",
        "           \"pepas\": True\n",
        "          }"
      ],
      "id": "26d23e26",
      "execution_count": null,
      "outputs": []
    },
    {
      "cell_type": "markdown",
      "metadata": {
        "id": "259ee333"
      },
      "source": [
        "Ahora, agregue todas las frutas a un arreglo."
      ],
      "id": "259ee333"
    },
    {
      "cell_type": "code",
      "metadata": {
        "id": "fcf62186",
        "colab": {
          "base_uri": "https://localhost:8080/"
        },
        "outputId": "7b0759d8-5157-439e-b6a0-a80fc3b6a398"
      },
      "source": [
        "# Ojo: agregue los datos en el mismo orden que aparecen en la tabla\n",
        "datos = [limon,naranja,platano,piña,frutilla,frambuesa]\n",
        "datos"
      ],
      "id": "fcf62186",
      "execution_count": null,
      "outputs": [
        {
          "output_type": "execute_result",
          "data": {
            "text/plain": [
              "[{'color': 'amarillo', 'nombre': 'limón', 'pepas': True, 'tipo': 'cítrica'},\n",
              " {'color': 'naranjo', 'nombre': 'naranja', 'pepas': True, 'tipo': 'cítrica'},\n",
              " {'color': 'amarillo',\n",
              "  'nombre': 'plátano',\n",
              "  'pepas': False,\n",
              "  'tipo': 'tropical'},\n",
              " {'color': 'amarillo', 'nombre': 'piña', 'pepas': False, 'tipo': 'tropical'},\n",
              " {'color': 'rojo', 'nombre': 'frutilla', 'pepas': True, 'tipo': 'bosque'},\n",
              " {'color': 'rojo', 'nombre': 'frambuesa', 'pepas': True, 'tipo': 'bosque'}]"
            ]
          },
          "metadata": {},
          "execution_count": 2
        }
      ]
    },
    {
      "cell_type": "markdown",
      "metadata": {
        "id": "2ed7730e"
      },
      "source": [
        "Este arreglo será la información con la que se trabajará durante el lab."
      ],
      "id": "2ed7730e"
    },
    {
      "cell_type": "markdown",
      "metadata": {
        "id": "e9b1e46d"
      },
      "source": [
        "### Funciones Aplicadas a los Datos [1.5 puntos]"
      ],
      "id": "e9b1e46d"
    },
    {
      "cell_type": "markdown",
      "metadata": {
        "id": "b7b016d6"
      },
      "source": [
        "Elabore las siguientes funciones:\n",
        "    \n",
        "**1. La función `describir(datos)` que genere un arreglo con strings que describan cada fruta de la siguiente manera:**\n",
        "\n",
        "```{El/La} {...} es una fruta de tipo {...} de color {...}. {Presenta/No presenta} pepas en su interior.```\n",
        "    \n",
        "Por ejemplo, para el plátano se debe generar el siguiente string:\n",
        "    \n",
        "```\n",
        "'El plátano es una fruta de tipo tropical de color amarillo. No presenta pepas en su interior.'\n",
        "```\n",
        "    \n",
        "Indicaciones: \n",
        "- Usen formateo o suma de strings, if, else y for.\n",
        "- Para saber si ocupar 'El' o 'La', pueden acceder al nombre de la fruta y ver cual es el último carácter a través de indexadores `string[indice]`.\n",
        "    \n",
        "**2. La función `filtrar_por_pepa(datos, tiene_pepas)` que dado un tipo de fruta y un booleano, retorne las frutas que tienen o no tienen pepas (según el valor de `tiene_pepas`).**\n",
        "    \n",
        "\n",
        "Por ejemplo, `filtrar_por_pepa(datos, True)` deberá retornar un arreglo con los diccionarios de: naranja, limon, frutilla y frambuesa.\n",
        "\n",
        "\n",
        "**3. La función `conteo_colores(datos)` que cree un diccionario que haga un conteo los colores de las frutas.**\n",
        "\n",
        "Para estos datos, la función debería retornar el siguiente diccionario: \n",
        "    \n",
        "```python\n",
        "{\"amarillo\": 3, \"naranjo\": 1, \"rojo\": 2}\n",
        "````"
      ],
      "id": "b7b016d6"
    },
    {
      "cell_type": "markdown",
      "metadata": {
        "id": "9Wqh7UyYXXIi"
      },
      "source": [
        "**Desarrollo de código:**"
      ],
      "id": "9Wqh7UyYXXIi"
    },
    {
      "cell_type": "code",
      "metadata": {
        "id": "023bc051"
      },
      "source": [
        "def describir(datos):\n",
        "    descripciones = []\n",
        "    for i in datos:\n",
        "        nombre = i['nombre']\n",
        "        if nombre[-1] == 'a':\n",
        "            articulo = 'La '  \n",
        "        else:\n",
        "            articulo = 'El '\n",
        "        tipo = i['tipo']\n",
        "        color = i['color']\n",
        "        frase = articulo + '{n} es una fruta de tipo {t} de color {c}. '.format(n= nombre, t = tipo, c = color)\n",
        "        boo = i['pepas']\n",
        "        if boo == True:\n",
        "            frase += 'Presenta pepas en su interior.'\n",
        "        else:\n",
        "            frase += 'No presenta pepas en su interior.'\n",
        "        descripciones.append(frase)\n",
        "    return descripciones\n",
        "\n",
        "\n",
        "def filtrar_por_pepa(datos, tiene_pepas):\n",
        "    filtrados = []\n",
        "    for i in datos:\n",
        "        boo = i['pepas']\n",
        "        if boo == tiene_pepas:\n",
        "            filtrados.append(i)\n",
        "    return filtrados\n",
        "\n",
        "\n",
        "def conteo_colores(datos):\n",
        "    conteo = {}\n",
        "    for i in datos:\n",
        "        color = i['color']\n",
        "        if color not in conteo.keys():\n",
        "            conteo[color] = 1\n",
        "        else:\n",
        "            conteo[color] += 1\n",
        "    return conteo\n"
      ],
      "id": "023bc051",
      "execution_count": null,
      "outputs": []
    },
    {
      "cell_type": "markdown",
      "metadata": {
        "id": "5240bec1"
      },
      "source": [
        "El código de la siguiente celda presenta tests para probar sus funciones: Si la ejecución de esta celda no les levanta ninguna excepción, entonces sus funciones están implementadas según lo requerido. Si alguna falla, entonces deberán corregir los errores mostrados. \n",
        "Noten que los strings, diccionarios y en general, los objetos deben ser exactamente idénticos para que el test no falle."
      ],
      "id": "5240bec1"
    },
    {
      "cell_type": "markdown",
      "metadata": {
        "id": "_DWuD58nXd2q"
      },
      "source": [
        "**Ejecuten esta celda para comprobar su código:**"
      ],
      "id": "_DWuD58nXd2q"
    },
    {
      "cell_type": "code",
      "metadata": {
        "id": "c39b58c0"
      },
      "source": [
        "# ---------------------------------------------------------------------\n",
        "# test descripciones\n",
        "# note que las frutas deben estar en igual orden para que este assert no falle.\n",
        "\n",
        "descripciones_esperadas = [\n",
        "    'El limón es una fruta de tipo cítrica de color amarillo. Presenta pepas en su interior.',\n",
        "    'La naranja es una fruta de tipo cítrica de color naranjo. Presenta pepas en su interior.',\n",
        "    'El plátano es una fruta de tipo tropical de color amarillo. No presenta pepas en su interior.',\n",
        "    'La piña es una fruta de tipo tropical de color amarillo. No presenta pepas en su interior.',\n",
        "    'La frutilla es una fruta de tipo bosque de color rojo. Presenta pepas en su interior.',\n",
        "    'La frambuesa es una fruta de tipo bosque de color rojo. Presenta pepas en su interior.',\n",
        "]\n",
        "\n",
        "assert descripciones_esperadas == describir(datos)\n",
        "\n",
        "\n",
        "# ---------------------------------------------------------------------\n",
        "# test filtro\n",
        "frutas_con_pepa_esperadas = [\n",
        "    {'nombre': 'limón', 'tipo': 'cítrica', 'color': 'amarillo', 'pepas': True},\n",
        "    {'nombre': 'naranja', 'tipo': 'cítrica', 'color': 'naranjo', 'pepas': True},\n",
        "    #estas estaban invertidas\n",
        "    {'nombre': 'frutilla', 'tipo': 'bosque', 'color': 'rojo', 'pepas': True},\n",
        "    {'nombre': 'frambuesa', 'tipo': 'bosque', 'color': 'rojo', 'pepas': True}\n",
        "]\n",
        "\n",
        "assert frutas_con_pepa_esperadas == filtrar_por_pepa(datos, True)\n",
        "\n",
        "# ---------------------------------------------------------------------\n",
        "# test conteo\n",
        "conteo_esperado = {'amarillo': 3, 'naranjo': 1, 'rojo': 2}\n",
        "\n",
        "\n",
        "assert conteo_esperado == conteo_colores(datos) \n"
      ],
      "id": "c39b58c0",
      "execution_count": null,
      "outputs": []
    },
    {
      "cell_type": "markdown",
      "metadata": {
        "id": "ef45d2ea"
      },
      "source": [
        "### Implementaciones Funcionales [1.0 punto] \n",
        "\n",
        "Implementar las funciones de la sección anterior de forma funcional (solo las primeras 2 funciones).\n",
        "\n"
      ],
      "id": "ef45d2ea"
    },
    {
      "cell_type": "code",
      "metadata": {
        "id": "c6ef993a"
      },
      "source": [
        "def describir_funcional(datos):\n",
        "\n",
        "    def generar_descripcion(fruta):\n",
        "        nombre = fruta['nombre']\n",
        "        if nombre[-1] == 'a':\n",
        "            articulo = 'La '  \n",
        "        else:\n",
        "            articulo = 'El '\n",
        "        tipo = fruta['tipo']\n",
        "        color = fruta['color']\n",
        "        frase = articulo + '{n} es una fruta de tipo {t} de color {c}. '.format(n= nombre, t = tipo, c = color)\n",
        "        boo = fruta['pepas']\n",
        "        if boo == True:\n",
        "            frase += 'Presenta pepas en su interior.'\n",
        "        else:\n",
        "            frase += 'No presenta pepas en su interior.'\n",
        "        return frase\n",
        "    lista = list(map(lambda x: generar_descripcion(x), datos))\n",
        "    return lista\n",
        "\n",
        "    \n",
        "    \n",
        "def filtrar_por_pepa_funcional(datos, tipo_de_dato):\n",
        "    lista=list(filter(lambda a: a['pepas']==tipo_de_dato, datos))\n",
        "    return(lista)\n"
      ],
      "id": "c6ef993a",
      "execution_count": null,
      "outputs": []
    },
    {
      "cell_type": "markdown",
      "metadata": {
        "id": "fwno3rOhn_jd"
      },
      "source": [
        "Nuevamente más tests, ahora para las funciones con map y filter.\n",
        "\n",
        "**Ejecuten esta celda para comprobar su código:**"
      ],
      "id": "fwno3rOhn_jd"
    },
    {
      "cell_type": "code",
      "metadata": {
        "id": "vlRVONAClo3i"
      },
      "source": [
        "assert descripciones_esperadas == describir_funcional(datos)\n",
        "assert frutas_con_pepa_esperadas == filtrar_por_pepa_funcional(datos, True)"
      ],
      "id": "vlRVONAClo3i",
      "execution_count": null,
      "outputs": []
    },
    {
      "cell_type": "markdown",
      "metadata": {
        "id": "492b941a"
      },
      "source": [
        "## Parte 2: Electrodomésticos 🧃\n",
        "\n",
        "En esta parte se solicitarán un par de clases que permitirá jugar con la Programación Orientada a Objetos.\n",
        "\n",
        "<div align='center'>\n",
        "<img src='https://upload.wikimedia.org/wikipedia/commons/6/67/Breville.jpg' width=400/>\n",
        "</div>"
      ],
      "id": "492b941a"
    },
    {
      "cell_type": "markdown",
      "metadata": {
        "id": "PDaUTTiLd8fl"
      },
      "source": [
        "### Clase Electrodoméstico [0.5 puntos] \n",
        "\n",
        "\n",
        "\n",
        "\n",
        "Defina la clase `Electrodomestico` que implemente:\n",
        "\n",
        "\n",
        "- Un constructor que defina un atributo de instancia llamado `enchufado` que almacene valores booleanos. \n",
        "- Un método llamado `esta_enchufado(self)` que levante una excepción `Exception` y que termine con la ejecución del programa cuando el atributo enchuado sea `False`. La exepción debe levantar el mensaje `'Alerta ⚠️: El electrodoméstico no está enchufado'`\n",
        "- Un método llamado `enchufar(self)` que cambia el estado de `enchufado` a True."
      ],
      "id": "PDaUTTiLd8fl"
    },
    {
      "cell_type": "code",
      "metadata": {
        "id": "9f8aa475"
      },
      "source": [
        "class Electrodomestico:\n",
        "    \n",
        "    def __init__(self):\n",
        "        self.enchufado = False\n",
        "        \n",
        "    def esta_enchufado(self):\n",
        "        if self.enchufado == False:\n",
        "            raise ValueError(\n",
        "                'Alerta ⚠️: El electrodoméstico no está enchufado'\n",
        "            )\n",
        "            return False\n",
        "        else:\n",
        "            return True\n",
        "\n",
        "    def enchufar(self):\n",
        "        self.enchufado = True"
      ],
      "id": "9f8aa475",
      "execution_count": null,
      "outputs": []
    },
    {
      "cell_type": "markdown",
      "metadata": {
        "id": "d7d477b5"
      },
      "source": [
        "### Clase Jugera [2.5 puntos] \n",
        "\n",
        "\n",
        "<div align='center'>\n",
        "<img src='https://upload.wikimedia.org/wikipedia/commons/b/bb/Liquadora_%28parts%29.JPG' width=400/>\n",
        "</div>\n",
        "\n"
      ],
      "id": "d7d477b5"
    },
    {
      "cell_type": "markdown",
      "metadata": {
        "id": "f72a5754"
      },
      "source": [
        "Implemente la clase `Jugera` que extiende `Electrodomestico` y que implemente: \n",
        "\n",
        "\n",
        "- Un constructor que tenga una lista de ingredientes frutales (llamado `bandeja`).\n",
        "\n",
        "\n",
        "- Un método llamado `agregar_ingrediente(self, nueva_fruta)` que dado una fruta, agregue esa fruta a la `bandeja`.\n",
        "\n",
        "- Un método llamado `listar_ingredientes(self)` que imprima (con `print`) los ingredientes actuales de la `bandeja` de la siguiente forma: \n",
        "\n",
        "    `Ingredientes en la bandeja: frutilla, frambuesa, piña.`\n",
        "\n",
        "    Hint: Investigar el método `join` de un string para generar el string con los nombres de las frutas.\n",
        "    \n",
        "    \n",
        "    \n",
        "\n",
        "- Un método llamado `preparar_jugo(self)` que: \n",
        "    - Primero verifique que el electrodoméstico esté enchufado usando `self.esta_enchufado()`.\n",
        "    - Verifique que haya por lo menos un ingrediente en la `bandeja`. En el caso que no haya, levantar una excepción con contenido `'Error ❌: La bandeja no tiene ingredientes.'`\n",
        "    - Verifique que ninguna fruta tenga pepas. En el caso que haya alguna, imprimir (con `print`) el mensaje de advertencia `'Alerta ⚠️: El jugo puede contener restos de pepas.'`. Puede usar la función definida en la sección anterior.\n",
        "    - Genere un mensaje indicado `Jugo de {nombres de las frutas separadas por una ,} listo. 🏖️🥤 Que lo disfrutes!!! 🥤🏖️. ` (Hint: Usar nuevamente `join`).\n",
        "    - Vacie la `bandeja` (es decir, eliminar todas las frutas de la bandeja).\n",
        "    - Retorne el mensaje generado.\n"
      ],
      "id": "f72a5754"
    },
    {
      "cell_type": "code",
      "metadata": {
        "id": "d9db037b"
      },
      "source": [
        "class Electrodomestico:\n",
        "    \n",
        "    def __init__(self):\n",
        "        self.enchufado = False\n",
        "        \n",
        "    def esta_enchufado(self):\n",
        "        if self.enchufado == False:\n",
        "            raise ValueError(\n",
        "                'Alerta ⚠️: El electrodoméstico no está enchufado'\n",
        "            )\n",
        "        else:\n",
        "            return True\n",
        "\n",
        "    def enchufar(self):\n",
        "        self.enchufado = True\n",
        "\n",
        "class Jugera(Electrodomestico):\n",
        "    \n",
        "    def __init__(self):\n",
        "        super().__init__()\n",
        "        self.bandeja = []\n",
        "        \n",
        "    def agregar_ingrediente(self, nueva_fruta):\n",
        "        self.bandeja.append(nueva_fruta['nombre'])\n",
        "     \n",
        "    def listar_ingredientes(self):\n",
        "        if len(self.bandeja)>0:\n",
        "            string= ''.join([str(i)+', ' for i in self.bandeja])\n",
        "            string = string[:-2]\n",
        "            mensaje = 'Ingredientes en la bandeja: '+string\n",
        "            print(mensaje)\n",
        "        else:\n",
        "            print('Bandeja vacía')\n",
        "    \n",
        "    def preparar_jugo(self):\n",
        "        if self.esta_enchufado() == True:\n",
        "            if len(self.bandeja) == 0:\n",
        "                raise ValueError(\n",
        "                'Error ❌: La bandeja no tiene ingredientes.'\n",
        "            )\n",
        "            else:\n",
        "                frutasPepa = filtrar_por_pepa(datos, True)\n",
        "                frutasPepa = [i['nombre'] for i in frutasPepa]\n",
        "                \n",
        "                verificador = [i for i in self.bandeja if i in frutasPepa]\n",
        "                if len(verificador)>0:\n",
        "                    print('Alerta ⚠️: El jugo puede contener restos de pepas.')\n",
        "                frutas = ''.join([str(i)+', ' for i in self.bandeja])\n",
        "                frutas = frutas[:-2]\n",
        "                string = 'Jugo de '+frutas\n",
        "                mensaje = string + ' listo. 🏖️🥤 Que lo disfrutes!!! 🥤🏖️.'\n",
        "                self.bandeja=[]\n",
        "        \n",
        "                return mensaje"
      ],
      "id": "d9db037b",
      "execution_count": null,
      "outputs": []
    },
    {
      "cell_type": "markdown",
      "metadata": {
        "id": "6889015a"
      },
      "source": [
        "### Interacciones\n",
        "\n",
        "Las siguientes celdas les permitirán probar las interacciones de esta clase.\n",
        "La ejecución es solo referencial y no lleva puntaje. La idea es que la utilice como guía para desarrollar la clase."
      ],
      "id": "6889015a"
    },
    {
      "cell_type": "code",
      "metadata": {
        "id": "913af660",
        "colab": {
          "base_uri": "https://localhost:8080/"
        },
        "outputId": "33163067-2955-4eb9-ee8d-c076f406c346"
      },
      "source": [
        "jugera = Jugera()\n",
        "\n",
        "# Como no tenemos ingredientes, listar_ingredientes deberá imprimir 'Bandeja vacía'\n",
        "jugera.listar_ingredientes()"
      ],
      "id": "913af660",
      "execution_count": null,
      "outputs": [
        {
          "output_type": "stream",
          "name": "stdout",
          "text": [
            "Bandeja vacía\n"
          ]
        }
      ]
    },
    {
      "cell_type": "code",
      "metadata": {
        "id": "9d06bf3e",
        "scrolled": false,
        "colab": {
          "base_uri": "https://localhost:8080/",
          "height": 320
        },
        "outputId": "bd2024fd-c1c2-4d1c-a2d9-043775216654"
      },
      "source": [
        "# Esta celda debería levantar una excepcion indicando que no está enchufada la jugera.\n",
        "jugera.preparar_jugo()"
      ],
      "id": "9d06bf3e",
      "execution_count": null,
      "outputs": [
        {
          "output_type": "error",
          "ename": "ValueError",
          "evalue": "ignored",
          "traceback": [
            "\u001b[0;31m---------------------------------------------------------------------------\u001b[0m",
            "\u001b[0;31mValueError\u001b[0m                                Traceback (most recent call last)",
            "\u001b[0;32m<ipython-input-10-12a82fa67e1d>\u001b[0m in \u001b[0;36m<module>\u001b[0;34m()\u001b[0m\n\u001b[1;32m      1\u001b[0m \u001b[0;31m# Esta celda debería levantar una excepcion indicando que no está enchufada la jugera.\u001b[0m\u001b[0;34m\u001b[0m\u001b[0;34m\u001b[0m\u001b[0;34m\u001b[0m\u001b[0m\n\u001b[0;32m----> 2\u001b[0;31m \u001b[0mjugera\u001b[0m\u001b[0;34m.\u001b[0m\u001b[0mpreparar_jugo\u001b[0m\u001b[0;34m(\u001b[0m\u001b[0;34m)\u001b[0m\u001b[0;34m\u001b[0m\u001b[0;34m\u001b[0m\u001b[0m\n\u001b[0m",
            "\u001b[0;32m<ipython-input-8-ccb6d4de7c26>\u001b[0m in \u001b[0;36mpreparar_jugo\u001b[0;34m(self)\u001b[0m\n\u001b[1;32m     34\u001b[0m \u001b[0;34m\u001b[0m\u001b[0m\n\u001b[1;32m     35\u001b[0m     \u001b[0;32mdef\u001b[0m \u001b[0mpreparar_jugo\u001b[0m\u001b[0;34m(\u001b[0m\u001b[0mself\u001b[0m\u001b[0;34m)\u001b[0m\u001b[0;34m:\u001b[0m\u001b[0;34m\u001b[0m\u001b[0;34m\u001b[0m\u001b[0m\n\u001b[0;32m---> 36\u001b[0;31m         \u001b[0;32mif\u001b[0m \u001b[0mself\u001b[0m\u001b[0;34m.\u001b[0m\u001b[0mesta_enchufado\u001b[0m\u001b[0;34m(\u001b[0m\u001b[0;34m)\u001b[0m \u001b[0;34m==\u001b[0m \u001b[0;32mTrue\u001b[0m\u001b[0;34m:\u001b[0m\u001b[0;34m\u001b[0m\u001b[0;34m\u001b[0m\u001b[0m\n\u001b[0m\u001b[1;32m     37\u001b[0m             \u001b[0;32mif\u001b[0m \u001b[0mlen\u001b[0m\u001b[0;34m(\u001b[0m\u001b[0mself\u001b[0m\u001b[0;34m.\u001b[0m\u001b[0mbandeja\u001b[0m\u001b[0;34m)\u001b[0m \u001b[0;34m==\u001b[0m \u001b[0;36m0\u001b[0m\u001b[0;34m:\u001b[0m\u001b[0;34m\u001b[0m\u001b[0;34m\u001b[0m\u001b[0m\n\u001b[1;32m     38\u001b[0m                 raise ValueError(\n",
            "\u001b[0;32m<ipython-input-8-ccb6d4de7c26>\u001b[0m in \u001b[0;36mesta_enchufado\u001b[0;34m(self)\u001b[0m\n\u001b[1;32m      7\u001b[0m         \u001b[0;32mif\u001b[0m \u001b[0mself\u001b[0m\u001b[0;34m.\u001b[0m\u001b[0menchufado\u001b[0m \u001b[0;34m==\u001b[0m \u001b[0;32mFalse\u001b[0m\u001b[0;34m:\u001b[0m\u001b[0;34m\u001b[0m\u001b[0;34m\u001b[0m\u001b[0m\n\u001b[1;32m      8\u001b[0m             raise ValueError(\n\u001b[0;32m----> 9\u001b[0;31m                 \u001b[0;34m'Alerta ⚠️: El electrodoméstico no está enchufado'\u001b[0m\u001b[0;34m\u001b[0m\u001b[0;34m\u001b[0m\u001b[0m\n\u001b[0m\u001b[1;32m     10\u001b[0m             )\n\u001b[1;32m     11\u001b[0m         \u001b[0;32melse\u001b[0m\u001b[0;34m:\u001b[0m\u001b[0;34m\u001b[0m\u001b[0;34m\u001b[0m\u001b[0m\n",
            "\u001b[0;31mValueError\u001b[0m: Alerta ⚠️: El electrodoméstico no está enchufado"
          ]
        }
      ]
    },
    {
      "cell_type": "code",
      "metadata": {
        "id": "3ad38f18"
      },
      "source": [
        "# Enchufamos el electrodoméstico\n",
        "jugera.enchufar()"
      ],
      "id": "3ad38f18",
      "execution_count": null,
      "outputs": []
    },
    {
      "cell_type": "code",
      "metadata": {
        "id": "48009872",
        "scrolled": true,
        "colab": {
          "base_uri": "https://localhost:8080/",
          "height": 296
        },
        "outputId": "9cc3a476-4e6c-45ff-c7e1-dfc7635673ec"
      },
      "source": [
        "# Esta celda debería levantar una excepción informandoles que la bandeja no tiene ingredientes.\n",
        "jugera.preparar_jugo()"
      ],
      "id": "48009872",
      "execution_count": null,
      "outputs": [
        {
          "output_type": "error",
          "ename": "ValueError",
          "evalue": "ignored",
          "traceback": [
            "\u001b[0;31m---------------------------------------------------------------------------\u001b[0m",
            "\u001b[0;31mValueError\u001b[0m                                Traceback (most recent call last)",
            "\u001b[0;32m<ipython-input-12-51a48fb56442>\u001b[0m in \u001b[0;36m<module>\u001b[0;34m()\u001b[0m\n\u001b[1;32m      1\u001b[0m \u001b[0;31m# Esta celda debería levantar una excepción informandoles que la bandeja no tiene ingredientes.\u001b[0m\u001b[0;34m\u001b[0m\u001b[0;34m\u001b[0m\u001b[0;34m\u001b[0m\u001b[0m\n\u001b[0;32m----> 2\u001b[0;31m \u001b[0mjugera\u001b[0m\u001b[0;34m.\u001b[0m\u001b[0mpreparar_jugo\u001b[0m\u001b[0;34m(\u001b[0m\u001b[0;34m)\u001b[0m\u001b[0;34m\u001b[0m\u001b[0;34m\u001b[0m\u001b[0m\n\u001b[0m",
            "\u001b[0;32m<ipython-input-8-ccb6d4de7c26>\u001b[0m in \u001b[0;36mpreparar_jugo\u001b[0;34m(self)\u001b[0m\n\u001b[1;32m     37\u001b[0m             \u001b[0;32mif\u001b[0m \u001b[0mlen\u001b[0m\u001b[0;34m(\u001b[0m\u001b[0mself\u001b[0m\u001b[0;34m.\u001b[0m\u001b[0mbandeja\u001b[0m\u001b[0;34m)\u001b[0m \u001b[0;34m==\u001b[0m \u001b[0;36m0\u001b[0m\u001b[0;34m:\u001b[0m\u001b[0;34m\u001b[0m\u001b[0;34m\u001b[0m\u001b[0m\n\u001b[1;32m     38\u001b[0m                 raise ValueError(\n\u001b[0;32m---> 39\u001b[0;31m                 \u001b[0;34m'Error ❌: La bandeja no tiene ingredientes.'\u001b[0m\u001b[0;34m\u001b[0m\u001b[0;34m\u001b[0m\u001b[0m\n\u001b[0m\u001b[1;32m     40\u001b[0m             )\n\u001b[1;32m     41\u001b[0m             \u001b[0;32melse\u001b[0m\u001b[0;34m:\u001b[0m\u001b[0;34m\u001b[0m\u001b[0;34m\u001b[0m\u001b[0m\n",
            "\u001b[0;31mValueError\u001b[0m: Error ❌: La bandeja no tiene ingredientes."
          ]
        }
      ]
    },
    {
      "cell_type": "code",
      "metadata": {
        "id": "4873e0bf",
        "colab": {
          "base_uri": "https://localhost:8080/"
        },
        "outputId": "065b0fa2-3e89-426b-d8e6-dc0f17daf373"
      },
      "source": [
        "# Agregamos algunos ingredientes\n",
        "jugera.agregar_ingrediente(naranja)\n",
        "jugera.agregar_ingrediente(platano)\n",
        "\n",
        "# Y los listamos (debería imprimir: 'Ingredientes en la bandeja: naranja, plátano')\n",
        "jugera.listar_ingredientes()"
      ],
      "id": "4873e0bf",
      "execution_count": null,
      "outputs": [
        {
          "output_type": "stream",
          "name": "stdout",
          "text": [
            "Ingredientes en la bandeja: naranja, plátano\n"
          ]
        }
      ]
    },
    {
      "cell_type": "code",
      "metadata": {
        "id": "ff555151",
        "colab": {
          "base_uri": "https://localhost:8080/",
          "height": 52
        },
        "outputId": "8fdb8ca3-461c-4b98-d8e9-ca827b6a7a38"
      },
      "source": [
        "# Preparamos el jugo: 'Jugo de naranja, plátano listo. 🏖️🥤 Que lo disfrutes!!! 🥤🏖️.'\n",
        "jugera.preparar_jugo()"
      ],
      "id": "ff555151",
      "execution_count": null,
      "outputs": [
        {
          "output_type": "stream",
          "name": "stdout",
          "text": [
            "Alerta ⚠️: El jugo puede contener restos de pepas.\n"
          ]
        },
        {
          "output_type": "execute_result",
          "data": {
            "application/vnd.google.colaboratory.intrinsic+json": {
              "type": "string"
            },
            "text/plain": [
              "'Jugo de naranja, plátano listo. 🏖️🥤 Que lo disfrutes!!! 🥤🏖️.'"
            ]
          },
          "metadata": {},
          "execution_count": 14
        }
      ]
    },
    {
      "cell_type": "code",
      "metadata": {
        "id": "bbc532b2",
        "colab": {
          "base_uri": "https://localhost:8080/"
        },
        "outputId": "d5383371-089c-42e4-a56c-07ab481a6980"
      },
      "source": [
        "# Una vez preparado el jugo, debería vaciarse la bandeja (imprimir Bandeja vacía)\n",
        "jugera.listar_ingredientes()"
      ],
      "id": "bbc532b2",
      "execution_count": null,
      "outputs": [
        {
          "output_type": "stream",
          "name": "stdout",
          "text": [
            "Bandeja vacía\n"
          ]
        }
      ]
    }
  ]
}