{
  "nbformat": 4,
  "nbformat_minor": 0,
  "metadata": {
    "colab": {
      "name": "Laboratorio_4_IN6531.ipynb",
      "provenance": [],
      "collapsed_sections": [
        "oPWelcJRDEQv",
        "Jh0LbvPoeGvm",
        "TvsCEhkqeJ_7",
        "L2MQwPEzyUMi",
        "RTy_D9RhuMb9",
        "cEHHVozQ37L8",
        "Q7qgZakOXh7t",
        "rm3LcEEp6mAh"
      ],
      "include_colab_link": true
    },
    "kernelspec": {
      "name": "python3",
      "display_name": "Python 3"
    },
    "language_info": {
      "name": "python"
    }
  },
  "cells": [
    {
      "cell_type": "markdown",
      "metadata": {
        "id": "view-in-github",
        "colab_type": "text"
      },
      "source": [
        "<a href=\"https://colab.research.google.com/github/Patortiz26/Laboratorio-de-Programaci-n/blob/main/Laboratorio_4_IN6531.ipynb\" target=\"_parent\"><img src=\"https://colab.research.google.com/assets/colab-badge.svg\" alt=\"Open In Colab\"/></a>"
      ]
    },
    {
      "cell_type": "markdown",
      "metadata": {
        "id": "5cI8k7Urqj6K"
      },
      "source": [
        "<center><h1>Laboratorio N°4</center></h1>\n",
        "\n",
        "<center><strong>IN6531: Introducción a la Minería de Datos - Primavera 2021</strong></center>"
      ]
    },
    {
      "cell_type": "markdown",
      "metadata": {
        "id": "S1L7VhMFsMcx"
      },
      "source": [
        "##Presentación"
      ]
    },
    {
      "cell_type": "markdown",
      "metadata": {
        "id": "Vp_vOHK7V97e"
      },
      "source": [
        "###Cuerpo Docente:\n",
        "\n",
        "- Profesor: Richard Weber\n",
        "- Auxiliar: Patricio Ortiz\n",
        "- Ayudantes: Felipe Arias, Walter Guzman, Esteban Rojas"
      ]
    },
    {
      "cell_type": "markdown",
      "metadata": {
        "id": "frf-PYzfy1-x"
      },
      "source": [
        "###Declaración de compromiso ético\n",
        "\n",
        "Nosotros **Integrante 1, Integrante 2 e Integrante 3** declaramos que realizamos de manera grupal los pasos de la presente actividad. También declaramos no incurrir en copia, ni compartir nuestras respuestas con otras personas ni con otros grupos. Por lo que, ratificamos que las respuestas son de nuestra propia confección y reflejan nuestro propio conocimiento."
      ]
    },
    {
      "cell_type": "markdown",
      "metadata": {
        "id": "9el9ERaKWW3i"
      },
      "source": [
        "### Reglas:\n",
        "\n",
        "- Fecha de entrega: 4 días desde la publicación, 3 días de atraso con 1 punto de descuento c/u. Pueden utilizar días bonus sin descuento.\n",
        "- **Grupos de máximo 3 personas**.\n",
        "- Para trabajar este laboratorio edite este documento `.ipynb` agregando sus respuestas donde corresponda.\n",
        "- Para cada pregunta, cuando corresponda, incluya el código fuente que utilizó para llegar a su respuesta.\n",
        "- El formato de entrega para esta actividad debe ser un archivo `.ipynb` el cual debe ser subido a U-Cursos. Basta con que uno de los integrantes haga la entrega. Si más integrantes hacen una entrega en U-Cursos, se revisará cualquiera de éstas.\n",
        "- Cualquier duda fuera del horario de clases al foro. Mensajes al equipo docente serán respondidos por este medio.\n",
        "- Prohibidas las copias. En caso de sospecha de copia se activaran los protocolos correspondientes.\n",
        "- Pueden usar cualquer material del curso que estimen conveniente.\n",
        "\n",
        "\n",
        "\n",
        "\n"
      ]
    },
    {
      "cell_type": "markdown",
      "metadata": {
        "id": "4708b9b7"
      },
      "source": [
        "### Objetivos del lab: \n",
        "\n",
        "- Reconocer métricas de desempeño de clasificadores.\n",
        "- Reforzar buenas prácticas en problemas de clasificación.\n",
        "- Aplicar conocimientos de clasificación a un problema abierto.\n"
      ]
    },
    {
      "cell_type": "markdown",
      "metadata": {
        "id": "WcfN8xmyqj-p"
      },
      "source": [
        "##Preguntas prácticas (6.0 Puntos)\n",
        "\n"
      ]
    },
    {
      "cell_type": "markdown",
      "metadata": {
        "id": "51c4g85aWGDu"
      },
      "source": [
        "En este laboratorio, se les presentarán dos problemas. En el primero, (casi) no deberan programar, pues los resultados y códigos ya fueron ejecutados y se les pedirá a ustedes que respondan una serie de preguntas con respecto a los resultados o al código mostrado. En una segunda etapa se les pedirá a ustedes que puedan escribir el código para poder aplicar clasificación sobre los datos entregados."
      ]
    },
    {
      "cell_type": "markdown",
      "metadata": {
        "id": "LNEquvRaXZGu"
      },
      "source": [
        "### Sección 1: Problema guiado (3 Puntos)"
      ]
    },
    {
      "cell_type": "markdown",
      "metadata": {
        "id": "oPWelcJRDEQv"
      },
      "source": [
        "####Contexto"
      ]
    },
    {
      "cell_type": "markdown",
      "metadata": {
        "id": "YwcXcfc8XuWG"
      },
      "source": [
        "Usaremos el **Breast Cancer Dataset**, que viene en **scikit-learn**. Ejecutaremos la siguiente línea de código para importar la librería que nos permitirá cargarlo.\n",
        "\n"
      ]
    },
    {
      "cell_type": "code",
      "metadata": {
        "id": "PNOdlog5XYtI"
      },
      "source": [
        "import numpy as np\n",
        "import pandas as pd\n",
        "from sklearn.datasets import load_breast_cancer\n",
        "\n",
        "bc = load_breast_cancer()\n",
        "df = pd.DataFrame(data=bc['data'], columns=bc['feature_names'])\n",
        "df['target'] = bc['target']\n",
        "df['target'] = pd.Categorical(df['target'])\n",
        "\n",
        "df.head()"
      ],
      "execution_count": null,
      "outputs": []
    },
    {
      "cell_type": "markdown",
      "metadata": {
        "id": "Jh0LbvPoeGvm"
      },
      "source": [
        "####Parte 1: EDA y preprocesamiento (0.4 Puntos)"
      ]
    },
    {
      "cell_type": "markdown",
      "metadata": {
        "id": "WpQitXbhuT-7"
      },
      "source": [
        "En todo problema de Data Science, es importante comenzar por entender la calidad de los datos, que tipo de datos hay y como se relacionan entre ellos. Para ese objetivo utilizaremos la funcion `exploratory_data_analysis()` para poder ver caracteristicas importantes del dataframe.\n",
        "Al respecto, en esta sección se les pedirá comentar sobre la información que entrega la función y los gráficos entregados.\n"
      ]
    },
    {
      "cell_type": "code",
      "metadata": {
        "id": "20n0_QJ2Z0ev"
      },
      "source": [
        "def exploratory_data_analysis(df):\n",
        "  print('1.- El DataFrame tiene {i} filas y {j} columnas \\n'.format(i = str(df.shape[0]),j = str(df.shape[1])))\n",
        "\n",
        "  print('2.- El DataFrame esta compuesto por las siguientes columnas: \\n'+str(list(df.columns))+' \\n')\n",
        "\n",
        "  print('3.- Ejemplos de filas del DataFrame: \\n')\n",
        "  print('Primeras 5 filas:')\n",
        "  display(df.head())\n",
        "  print('\\n Últimas 5 filas:')\n",
        "  display(df.tail())\n",
        "\n",
        "  print('\\n 4.- Descripción numérica del Dataframe:')\n",
        "  display(df.describe())\n",
        "\n",
        "  print('\\n 5.- Cantidad de valores nulos por columna:')\n",
        "  print(df.isna().sum())\n",
        "\n",
        "  print('\\n 6.- Tipo de datos por columna:')\n",
        "  print(df.dtypes)\n",
        "\n",
        "exploratory_data_analysis(df)"
      ],
      "execution_count": null,
      "outputs": []
    },
    {
      "cell_type": "code",
      "metadata": {
        "id": "x5io0EqmXf2G"
      },
      "source": [
        "import matplotlib.pyplot as plt\n",
        "import seaborn as sns; sns.set(style=\"ticks\", color_codes=True)\n",
        "\n",
        "sns.pairplot(df.iloc[:, [0,1,2,9,10,-1]], hue='target', diag_kind='hist') # Parametro kind=\"reg\" agrega una recta"
      ],
      "execution_count": null,
      "outputs": []
    },
    {
      "cell_type": "code",
      "metadata": {
        "id": "XdtL901Lay9t"
      },
      "source": [
        "from sklearn.model_selection import train_test_split\n",
        "from sklearn.preprocessing import StandardScaler\n",
        "\n",
        "X = df.iloc[:,:-1]\n",
        "y = df.iloc[:,-1]\n",
        "\n",
        "X_train, X_test, y_train, y_test = train_test_split(X, y, test_size=.33, random_state=37, stratify=y)\n",
        "\n",
        "sc = StandardScaler()\n",
        "X_train_norm = sc.fit_transform(X_train) \n",
        "X_test_norm = sc.transform(X_test)       "
      ],
      "execution_count": null,
      "outputs": []
    },
    {
      "cell_type": "markdown",
      "metadata": {
        "id": "JUTlY3yJakg9"
      },
      "source": [
        "**Preguntas**\n",
        "\n",
        "1. ¿Que cosas considera relevantes de la información entregada por la función `exploratory_data_analysis()`? ¿Que observaciones surgen del pairplot? \n",
        "2. Explique que significa que un problema sea *desbalanceado* y escriba código que le permita identificar si este problema corresponde a uno. Enuncie además ¿Que proceso se podría sugerir para el procesamiento de los datos?"
      ]
    },
    {
      "cell_type": "markdown",
      "metadata": {
        "id": "sy3BEcv1at_-"
      },
      "source": [
        "**Respuestas**"
      ]
    },
    {
      "cell_type": "markdown",
      "metadata": {
        "id": "TvsCEhkqeJ_7"
      },
      "source": [
        "####Parte 2: Selección de clasificadores (0.8 Puntos)"
      ]
    },
    {
      "cell_type": "markdown",
      "metadata": {
        "id": "XnQl1D0vvges"
      },
      "source": [
        "En esta sección trabajaremos en torno a como definir cual clasificador es *mejor*. Para ello ejecute el siguiente código en que se probarán distintos clasificadores y responda las preguntas al final de la sección.\n",
        "\n",
        "Para obtener puntaje bonus en esta sección se les pide lo siguiente:\n",
        "1. Modificar la función `run_classifier()` de manera que la división de train y test se realice dentro.\n",
        "2. Ocupar el párametro `num_test` para realizar distintas divisiones del dataframe. Notar que al realizar esto, deberian ir agregando los resultados dentro de las listas dentro de `metrics`. por lo que en la segunda celda de código deberan retornar el promedio.\n",
        "3. Agregar dos nuevos clasificadores."
      ]
    },
    {
      "cell_type": "code",
      "metadata": {
        "id": "o3LXOL9tguEV"
      },
      "source": [
        "from sklearn.metrics import f1_score, recall_score, precision_score, accuracy_score\n",
        "import datetime\n",
        "\n",
        "def run_classifier(clf, X_train, X_test, y_train, y_test, num_tests=100):\n",
        "    metrics = {'f1-score': [], 'precision': [], 'recall': [], 'accuracy': []}\n",
        "    t1=datetime.datetime.now()\n",
        "\n",
        "    model = clf.fit(X_train, y_train)\n",
        "    predictions = clf.predict(X_test)\n",
        "    metrics['f1-score'].append(f1_score(y_test, predictions)) \n",
        "    metrics['recall'].append(recall_score(y_test, predictions))\n",
        "    metrics['precision'].append(precision_score(y_test, predictions))\n",
        "    metrics['accuracy'].append(accuracy_score(y_test, predictions))\n",
        "    \n",
        "    t2=datetime.datetime.now()\n",
        "\n",
        "    t3 = t2 - t1\n",
        "    tiempo = t3.seconds\n",
        "    return metrics, tiempo"
      ],
      "execution_count": null,
      "outputs": []
    },
    {
      "cell_type": "code",
      "metadata": {
        "id": "5Ohy5ZufgyuE"
      },
      "source": [
        "from sklearn.dummy import DummyClassifier\n",
        "from sklearn.tree import DecisionTreeClassifier\n",
        "from sklearn.ensemble import RandomForestClassifier\n",
        "from sklearn.neighbors import KNeighborsClassifier\n",
        "from sklearn.svm import SVC  # support vector machine classifier\n",
        "\n",
        "c0 = (\"Base Dummy\", DummyClassifier(strategy='stratified'))\n",
        "c1 = (\"Decision Tree\", DecisionTreeClassifier(max_depth=5))\n",
        "c2 = (\"Random Forest Classifier\", RandomForestClassifier())\n",
        "c3 = (\"KNN\", KNeighborsClassifier(n_neighbors=10))\n",
        "c4 = (\"Support Vector Machines\", SVC())\n",
        "\n",
        "classifiers = [c0, c1, c2, c3, c4]\n",
        "\n",
        "results = {}\n",
        "for name, clf in classifiers:\n",
        "    metrics, tiempo = run_classifier(clf, X_train_norm, X_test_norm, y_train, y_test)\n",
        "    results[name] = metrics\n",
        "    print(\"----------------\")\n",
        "    print(\"Resultados para clasificador: \", name) \n",
        "    print(\"Accuracy promedio:\", metrics['accuracy'][0])\n",
        "    print(\"Precision promedio:\", metrics['precision'][0])\n",
        "    print(\"Recall promedio:\", metrics['recall'][0])\n",
        "    print(\"F1-score promedio:\", metrics['f1-score'][0])\n",
        "    print(\"Tiempo de ejecucion: {n} segundos\".format(n=str(tiempo)))\n",
        "    print(\"----------------\\n\\n\")  "
      ],
      "execution_count": null,
      "outputs": []
    },
    {
      "cell_type": "markdown",
      "metadata": {
        "id": "17QbbL0RkUb9"
      },
      "source": [
        "**Preguntas**\n",
        "1. Enuncie cómo se calculan las métricas propuestas. Explique, además cuales son las propiedades que tiene cada una de ellas.\n",
        "2. Un consultor en minería de datos tiene la siguiente estrategia al momento de enfrentar un problema de clasificación: probar todos los modelos posibles hasta encontrar uno que tenga **cero error de entrenamiento**. Comente la estrategia del consultor y proponga una estrategia alternativa.\n",
        "3. El mismo consultor siempre usa la misma métrica para evaluar un modelo: accuracy. Comente la estrategia del consultor y proponga una estrategia alternativa.\n",
        "4. Analizando los resultados obtenidos de cada clasificador, y basándose en las métricas calculadas. ¿Cuál es el mejor clasificador? ¿Qué métricas observó para tomar esa decisión y por qué? considerando el problema que aborda. Fundamente su respuesta.\n"
      ]
    },
    {
      "cell_type": "markdown",
      "metadata": {
        "id": "L2MQwPEzyUMi"
      },
      "source": [
        "####Parte 3: Cross Validation (0.6 Puntos)"
      ]
    },
    {
      "cell_type": "markdown",
      "metadata": {
        "id": "3mcSlJEjyW7r"
      },
      "source": [
        "Los resultados de un clasificador se pueden ver sesgados por el conjunto de training que se le entrega, para poder obtener mayor robustez del modelo se aplica una técnica llamada Cross-Validation. En el código adjunto se aplica cross-validation utilizando el clasificador Decision Tree. Se le pide responder las preguntas adjuntas."
      ]
    },
    {
      "cell_type": "code",
      "metadata": {
        "id": "H9qhbkjuzBcr"
      },
      "source": [
        "from sklearn.model_selection import cross_validate\n",
        "\n",
        "scoring = ['precision_macro', 'recall_macro', 'accuracy', 'f1_macro']\n",
        "\n",
        "cv_results = cross_validate(DecisionTreeClassifier(max_depth=5), X, y, cv = 10, scoring = scoring, return_train_score= True)\n",
        "\n",
        "print('Promedio Precision:', np.mean(cv_results['test_precision_macro']))\n",
        "print('Promedio Recall:', np.mean(cv_results['test_recall_macro']))\n",
        "print('Promedio F1-score:', np.mean(cv_results['test_f1_macro']))\n",
        "print('Promedio Accucary:', np.mean(cv_results['test_accuracy']))"
      ],
      "execution_count": null,
      "outputs": []
    },
    {
      "cell_type": "markdown",
      "metadata": {
        "id": "S8UW2iByzRI6"
      },
      "source": [
        "**Preguntas**\n",
        "1. Comente respecto a cómo se comportan estas métricas con respecto a las reportadas en la parte anterior y exploque porque difieren.\n",
        "2. Explique, en detalle, los beneficios de cross-validation.\n",
        "3. Extienda el código anterior para hacer cross validation con los otros clasificadores vistos previamente. Se le entregará puntaje extra si la extensión la realiza aplicando conceptos de programación orientada a objetos."
      ]
    },
    {
      "cell_type": "markdown",
      "metadata": {
        "id": "RTy_D9RhuMb9"
      },
      "source": [
        "####Parte 4: Selección de hiperparametros (0.8 Puntos)"
      ]
    },
    {
      "cell_type": "markdown",
      "metadata": {
        "id": "-5JfbW71xVKb"
      },
      "source": [
        "Los clasificadores tienen dentro de si un(os) *párametro(s)* que no se entrenan. A estos se les conoce como hiperparametros, y son valores que se deben probar \"a mano\" para identificar cual es la mejor combinación de ellos. El código presentado les da una implementación de aquello. Responda las preguntas a raíz de los resultados mostrados."
      ]
    },
    {
      "cell_type": "code",
      "metadata": {
        "id": "9paSbA_ruQQi"
      },
      "source": [
        "from sklearn.model_selection import GridSearchCV\n",
        "from sklearn.metrics import classification_report\n",
        "\n",
        "X_train, X_test, y_train, y_test = train_test_split(X, y, test_size=.33)\n",
        "\n",
        "#Configure tuned_parameters\n",
        "tuned_parameters = {'n_neighbors': [1, 3, 5, 10], \n",
        "                    'weights': ['uniform','distance']}\n",
        "\n",
        "#set scoring metric\n",
        "score = 'accuracy' \n",
        "\n",
        "#Construir el clf con GridSearch\n",
        "clf = GridSearchCV(KNeighborsClassifier(), \n",
        "                   param_grid=tuned_parameters, \n",
        "                   cv=5,\n",
        "                   scoring=score)\n",
        "\n",
        "#Entrenar clf\n",
        "clf.fit(X_train, y_train)\n",
        "\n",
        "print(\"Mejor combinación de parámetros:\")\n",
        "print(clf.best_params_)\n",
        " \n",
        "y_pred = clf.predict(X_test)\n",
        "\n",
        "print(\"\\n Accuracy:\", accuracy_score(y_test, y_pred))\n",
        "print(\"F1-Score:\", f1_score(y_test, y_pred))\n",
        "print(\"Precision:\", precision_score(y_test, y_pred))\n",
        "print(\"Recall:\", recall_score(y_test, y_pred))"
      ],
      "execution_count": null,
      "outputs": []
    },
    {
      "cell_type": "markdown",
      "metadata": {
        "id": "KUhKw95w2I-S"
      },
      "source": [
        "**Preguntas**\n",
        "1. ¿Observa una diferencia considerable con los resultados vistos previamente? ¿Que conclusiones puede sacar de aquello?\n",
        "2. ¿Cuál considera que es la principal ventaja de aplicar GridSearchCV? ¿Considera que es necesario seguir explorando los parámetros?\n",
        "3. Extienda la implementación para un clasificador DecisionTree y los parametros criterion=['gini','entropy'], max_depth=[2,5,10] y tomando como scoring metric 'f1'. Use cv=5\n",
        "4. Extienda la implementación además para el clasificador elegido en la parte 2, buscando mejorar la métrica seleccionada. Debe ingresar al menos dos hiperparametros. En caso de que ya se haya trabajado el clasificador que usted eligió, sientase libre de usar cualquiera de los restantes."
      ]
    },
    {
      "cell_type": "markdown",
      "metadata": {
        "id": "cEHHVozQ37L8"
      },
      "source": [
        "####Parte 5: Resultados finales (0.4 Puntos)\n",
        "\n"
      ]
    },
    {
      "cell_type": "markdown",
      "metadata": {
        "id": "hqBubD4SBi6q"
      },
      "source": [
        "Tras pasar por el (bonito) camino previo, usted ya ha elegido su clasificador favorito y ha determinado que hiperpárametros son los ideales para este caso de uso. Se les pide que utilizando ese conocimiento respondan las siguientes preguntas."
      ]
    },
    {
      "cell_type": "markdown",
      "metadata": {
        "id": "ApvF0nT44duT"
      },
      "source": [
        "**Preguntas**\n",
        "1. Pensando en mostrar sus resultados a sus stake-holders, y que estos se maravillen con su modelo, muestre el classification report que genera su modelo.\n",
        "2. Un consultor de minería de datos, les asegura que su modelo es increible y que deberían usarlo para todos los problemas de clasificación en la medicina moderna, ¿que le respondería usted al consultor?"
      ]
    },
    {
      "cell_type": "markdown",
      "metadata": {
        "id": "Q7qgZakOXh7t"
      },
      "source": [
        "###Sección 2: Problema abierto (3 Puntos)"
      ]
    },
    {
      "cell_type": "markdown",
      "metadata": {
        "id": "Om4w-74g6TaI"
      },
      "source": [
        "En esta pregunta usted deberá practicar un proceso reducido de minería de datos. Con el conjunto de datos que le daremos a continuación, usted deberá hacer una exploración de datos, aplicar las técnicas correspondientes de pre procesamiento de datos respecto a lo que encuentre y entrenar modelos de clasificación. Finalmente deberá evaluar los modelos que entrenó y justificar la elección de alguno de ellos."
      ]
    },
    {
      "cell_type": "markdown",
      "metadata": {
        "id": "eXVMR5Rb6TlB"
      },
      "source": [
        "Ejecute el siguiente código para cargar los datos que usaremos en esta parte. Los datos se encuentran en el archivo `movies.csv`.\n",
        "\n",
        "**Estamos interesados en predecir la variable `imdb_score` a partir de los demas datos.** `imdb_score` es un entero y puede considerarlo como un variable categórica."
      ]
    },
    {
      "cell_type": "code",
      "metadata": {
        "id": "qIpAMl-l8XWD"
      },
      "source": [
        "#Si usan colab\n",
        "from google.colab import drive\n",
        "drive.mount('/content/drive')"
      ],
      "execution_count": null,
      "outputs": []
    },
    {
      "cell_type": "code",
      "metadata": {
        "id": "EhUoePAIXkRB"
      },
      "source": [
        "from numpy import mean\n",
        "from numpy import std\n",
        "from numpy import absolute\n",
        "from numpy import arange\n",
        "from sklearn.model_selection import GridSearchCV\n",
        "from sklearn.model_selection import cross_val_score\n",
        "from sklearn.model_selection import RepeatedKFold\n",
        "import seaborn as sns\n",
        "\n",
        "# ponga aqui donde tiene el archivo\n",
        "data_file = \"/movies.csv\"\n",
        "\n",
        "df = pd.read_csv(data_file)\n",
        "df.imdb_score = pd.Categorical(df.imdb_score)"
      ],
      "execution_count": null,
      "outputs": []
    },
    {
      "cell_type": "markdown",
      "metadata": {
        "id": "rm3LcEEp6mAh"
      },
      "source": [
        "####Parte 1: Exploración de datos (1 Punto)"
      ]
    },
    {
      "cell_type": "markdown",
      "metadata": {
        "id": "UYZHUqvh6xX5"
      },
      "source": [
        "Explore el dataset y de una descripción del dataset. Algunos puntos que puede tocar son el número de datos en el dataset, número de features, tipos de cada features y rangos, datos erroneos, etc.\n",
        "Aplique el preprocesamiento necesario tal que los datos queden usables para los modelos de clasificación.\n",
        "\n",
        "Nota: Como la parte de exploración puede ser tan compleja y detallada como uno quiera, tendremos una pauta con lo mínimo que uno debería hacer en un dataset. Consideraremos análisis más detallados como un bonus."
      ]
    },
    {
      "cell_type": "markdown",
      "metadata": {
        "id": "IvCkUFUM6236"
      },
      "source": [
        "Como una guía para encaminar la exploración, puede considerar los siguientes hints.\n",
        "\n",
        "**Hints generales:**\n",
        "* Los datos no vienen limpios y tienen varios problemas que usted sabe como solucionar.\n",
        "* Qué tipos de datos tiene cada columna?\n",
        "* Cómo se relacionan las features?\n",
        "\n",
        "**Hints para bonus:** (no todos los hints corresponden a un puro análisis o procesamiento que pueden hacer sobre los datos, 2 hints pueden corresponden a la misma recomendación)\n",
        "* Hay features (categóricas) que no aportan información, qué análisis le serviría para ver cómo impactan en el score?\n",
        "* Revise los nombres de actores y directores.\n",
        "* Algunas features tienen outliers, encuéntrelos y limpie el dataset. Recuerde el boxplot.\n",
        "* Qué pasa si hay features extremadamente relacionadas entre sí?\n",
        "* Temporalmente, son todos los datos representativos al escenario actual?\n",
        "* Considere el siguiente código y vea si le sirve para algún tipo de análisis:\n",
        "```python\n",
        "feature = \"...\"\n",
        "# esto cuenta las ocurrencias de cada valor en 'feature'\n",
        "count = data[feature].value_counts()\n",
        "# esto calcula el score promedio por cada valor del 'feature'\n",
        "avg_score = data.groupby(feature)[\"imdb_score\"].mean()\n",
        "# los juntamos en un mismo dataframe\n",
        "count.to_frame().join(avg_score)\n",
        "```"
      ]
    },
    {
      "cell_type": "markdown",
      "metadata": {
        "id": "zas9Z5xL6vaJ"
      },
      "source": [
        "**Respuesta**\n",
        "(No haga todo en la misma celda, y aporte comentarios que ayuden a entender el proceso que realizó)"
      ]
    },
    {
      "cell_type": "code",
      "metadata": {
        "id": "_hyPd8z66jXB"
      },
      "source": [
        "#Respuesta"
      ],
      "execution_count": null,
      "outputs": []
    },
    {
      "cell_type": "markdown",
      "metadata": {
        "id": "NttCIYQg7Rsh"
      },
      "source": [
        "####Parte 2: Entrenamiento y evaluación (1 Punto)"
      ]
    },
    {
      "cell_type": "markdown",
      "metadata": {
        "id": "fV0IavPE7aSb"
      },
      "source": [
        "Escoja 2 modelos que hayamos visto (se excluye el dummy) y entrénelos sobre los datos trabajados en la parte anterior. Recuerde aplicar las buenas prácticas que ya repasamos y aplicamos previamente. Evalúe los modelos en base a métricas vistas en el curso. Puede hacer gráficos o generar tablas para analizar y comparar los modelos.\n",
        "\n",
        "Ambos modelos deben lograr al menos un 0.55 de accuracy."
      ]
    },
    {
      "cell_type": "code",
      "metadata": {
        "id": "qQAKSr-87Q7X"
      },
      "source": [
        "#respuesta"
      ],
      "execution_count": null,
      "outputs": []
    },
    {
      "cell_type": "markdown",
      "metadata": {
        "id": "TWXtHg1b7ytw"
      },
      "source": [
        "####Parte 3: Conclusiones"
      ]
    },
    {
      "cell_type": "markdown",
      "metadata": {
        "id": "B3v62wg571W4"
      },
      "source": [
        "Si este fuera un estudio encargado a usted por alguna empresa o cliente, basándose en los análisis que hizo anteriormente, qué conclusiones reportaría? Qué modelo propondría que fuera implementado en el producto del cliente? Por qué?"
      ]
    },
    {
      "cell_type": "markdown",
      "metadata": {
        "id": "w2MJ4nDp75i5"
      },
      "source": [
        "**Respuesta**"
      ]
    }
  ]
}